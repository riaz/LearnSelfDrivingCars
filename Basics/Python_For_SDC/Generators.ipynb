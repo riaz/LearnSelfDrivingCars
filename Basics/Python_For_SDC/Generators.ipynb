{
 "cells": [
  {
   "cell_type": "markdown",
   "metadata": {},
   "source": [
    "### Simple Class based generator"
   ]
  },
  {
   "cell_type": "markdown",
   "metadata": {},
   "source": [
    "```\n",
    "Py generators allow you to declare a function that behaves as a\n",
    "an iterator, hence you needn't return the values immediately\n",
    "and retrieve it iteratively.\n",
    "\n",
    "\n",
    "For an object to be an iterator it should implement the __iter__ method which will return the iterator object, the __next__ method will then return the next value in the sequence and possibly might raise the StopIteration exception when there are no values to be returned.\n",
    "\n",
    "\n",
    "Difference Between Generator Functions and Regular Functions\n",
    "The main difference between a regular function and generator functions is that the state of generator functions are maintained through the use of the keyword yield and works much like using return, but it has some important differences. the difference is that yield saves the state of the function. The next time the function is called, execution continues from where it left off, with the same variable values it had before yielding, whereas the return statement terminates the function completely. Another difference is that generator functions don’t even run a function, it only creates and returns a generator object. Lastly, the code in generator functions only execute when next() is called on the generator object.\n",
    "```"
   ]
  },
  {
   "cell_type": "code",
   "execution_count": 7,
   "metadata": {},
   "outputs": [],
   "source": [
    "class Odds:\n",
    "    def __init__(self, max_val, begin=1):\n",
    "        self.n = begin\n",
    "        self.max_val = max_val\n",
    "\n",
    "    def __iter__(self):\n",
    "        return self\n",
    "    \n",
    "    def __next__(self):\n",
    "        \"\"\"\n",
    "        Here we are trying to generate every odd number in \n",
    "        the sequence until max_val is encountered\n",
    "        \"\"\"\n",
    "        if self.n <= self.max_val:\n",
    "            result = self.n\n",
    "            self.n+=2\n",
    "            return result\n",
    "        else:\n",
    "            raise StopIteration"
   ]
  },
  {
   "cell_type": "code",
   "execution_count": 8,
   "metadata": {},
   "outputs": [
    {
     "name": "stdout",
     "output_type": "stream",
     "text": [
      "1\n",
      "3\n",
      "5\n",
      "7\n",
      "9\n"
     ]
    }
   ],
   "source": [
    "for odd in Odds(10):\n",
    "    print(odd)"
   ]
  },
  {
   "cell_type": "code",
   "execution_count": 9,
   "metadata": {},
   "outputs": [
    {
     "name": "stdout",
     "output_type": "stream",
     "text": [
      "1\n",
      "3\n",
      "5\n",
      "7\n"
     ]
    }
   ],
   "source": [
    "odd = Odds(10)\n",
    "\n",
    "print(next(odd))\n",
    "print(next(odd))\n",
    "print(next(odd))\n",
    "print(next(odd))"
   ]
  },
  {
   "cell_type": "markdown",
   "metadata": {},
   "source": [
    "### Generator Implementation in Python"
   ]
  },
  {
   "cell_type": "code",
   "execution_count": 11,
   "metadata": {},
   "outputs": [
    {
     "name": "stdout",
     "output_type": "stream",
     "text": [
      "3\n",
      "5\n",
      "7\n"
     ]
    },
    {
     "ename": "StopIteration",
     "evalue": "",
     "output_type": "error",
     "traceback": [
      "\u001b[0;31m---------------------------------------------------------------------------\u001b[0m",
      "\u001b[0;31mStopIteration\u001b[0m                             Traceback (most recent call last)",
      "\u001b[0;32m<ipython-input-11-4021b9b31142>\u001b[0m in \u001b[0;36m<module>\u001b[0;34m\u001b[0m\n\u001b[1;32m     19\u001b[0m \u001b[0mprint\u001b[0m\u001b[0;34m(\u001b[0m\u001b[0mnext\u001b[0m\u001b[0;34m(\u001b[0m\u001b[0mnums\u001b[0m\u001b[0;34m)\u001b[0m\u001b[0;34m)\u001b[0m\u001b[0;34m\u001b[0m\u001b[0;34m\u001b[0m\u001b[0m\n\u001b[1;32m     20\u001b[0m \u001b[0mprint\u001b[0m\u001b[0;34m(\u001b[0m\u001b[0mnext\u001b[0m\u001b[0;34m(\u001b[0m\u001b[0mnums\u001b[0m\u001b[0;34m)\u001b[0m\u001b[0;34m)\u001b[0m\u001b[0;34m\u001b[0m\u001b[0;34m\u001b[0m\u001b[0m\n\u001b[0;32m---> 21\u001b[0;31m \u001b[0mprint\u001b[0m\u001b[0;34m(\u001b[0m\u001b[0mnext\u001b[0m\u001b[0;34m(\u001b[0m\u001b[0mnums\u001b[0m\u001b[0;34m)\u001b[0m\u001b[0;34m)\u001b[0m\u001b[0;34m\u001b[0m\u001b[0;34m\u001b[0m\u001b[0m\n\u001b[0m",
      "\u001b[0;31mStopIteration\u001b[0m: "
     ]
    }
   ],
   "source": [
    "def get_odds_generator():\n",
    "    \"\"\"\n",
    "    The way this works is\n",
    "    successive calls to next, will retrive the value from each yield\n",
    "    \"\"\"\n",
    "    n=1\n",
    "    \n",
    "    n+=2\n",
    "    yield n\n",
    "    \n",
    "    n+=2\n",
    "    yield n \n",
    "    \n",
    "    n+=2\n",
    "    yield n\n",
    "    \n",
    "nums = get_odds_generator()\n",
    "print(next(nums))\n",
    "print(next(nums))\n",
    "print(next(nums))\n",
    "\n",
    "# calling the third time will lead to an error\n",
    "print(next(nums))"
   ]
  },
  {
   "cell_type": "code",
   "execution_count": 12,
   "metadata": {},
   "outputs": [],
   "source": [
    "def get_odds_generator(max):\n",
    "    n=1\n",
    "    \n",
    "    while n<=max:\n",
    "        yield n\n",
    "        n+=2\n",
    "    else:\n",
    "        raise StopIteration"
   ]
  },
  {
   "cell_type": "code",
   "execution_count": 20,
   "metadata": {},
   "outputs": [
    {
     "name": "stdout",
     "output_type": "stream",
     "text": [
      "1\n",
      "3\n",
      "generator raised StopIteration\n"
     ]
    }
   ],
   "source": [
    "numbers=get_odds_generator(3)\n",
    "\n",
    "try:\n",
    "    print(next(numbers))\n",
    "    print(next(numbers))\n",
    "    print(next(numbers))\n",
    "except RuntimeError as e:\n",
    "    print(e)"
   ]
  },
  {
   "cell_type": "markdown",
   "metadata": {},
   "source": [
    "### creating a power of 2 generator"
   ]
  },
  {
   "cell_type": "code",
   "execution_count": 22,
   "metadata": {},
   "outputs": [
    {
     "name": "stdout",
     "output_type": "stream",
     "text": [
      "2\n",
      "4\n",
      "8\n"
     ]
    }
   ],
   "source": [
    "def power_of_two(max_val=200):\n",
    "    val = 2\n",
    "    while val<=max_val:\n",
    "        result = val\n",
    "        val*=2\n",
    "        yield result\n",
    "    else:\n",
    "        raise StopIteration\n",
    "        \n",
    "num = power_of_two()\n",
    "print(next(num))\n",
    "print(next(num))\n",
    "print(next(num))"
   ]
  },
  {
   "cell_type": "markdown",
   "metadata": {},
   "source": [
    "```\n",
    "iterators are useful to work with large stream of data\n",
    "which cannot fit into memory at a time\n",
    "we can use generator to handle one data at a time\n",
    "```"
   ]
  },
  {
   "cell_type": "code",
   "execution_count": 23,
   "metadata": {},
   "outputs": [],
   "source": [
    "def fibonacci_generator():\n",
    "    n1 = 0\n",
    "    n2 = 1\n",
    "    while True:\n",
    "        yield n1\n",
    "        n1,n2 = n2, n1+n2"
   ]
  },
  {
   "cell_type": "code",
   "execution_count": 24,
   "metadata": {},
   "outputs": [
    {
     "name": "stdout",
     "output_type": "stream",
     "text": [
      "0\n",
      "1\n",
      "1\n",
      "2\n"
     ]
    }
   ],
   "source": [
    "sequence = fibonacci_generator()\n",
    "print(next(sequence))\n",
    "print(next(sequence))\n",
    "print(next(sequence))\n",
    "print(next(sequence))"
   ]
  },
  {
   "cell_type": "markdown",
   "metadata": {},
   "source": [
    "### using generators to generate a random no. 0f 1s (<=R*C) in a RxC matrix"
   ]
  },
  {
   "cell_type": "code",
   "execution_count": 43,
   "metadata": {},
   "outputs": [],
   "source": [
    "from random import randint\n",
    "def random_pattern(M=3,N=3,no_of_ones=3):\n",
    "    while True:\n",
    "        base_mtx = [[0] * M for _ in range(N)]\n",
    "        seen = set()\n",
    "        while len(seen) < no_of_ones:\n",
    "            num = randint(0,N*M-1)\n",
    "            if num not in seen:\n",
    "                seen.add(num)\n",
    "        while seen:\n",
    "            num = seen.pop()\n",
    "            r,c = num//N, num%M\n",
    "            base_mtx[r][c] = 1\n",
    "        yield base_mtx                "
   ]
  },
  {
   "cell_type": "code",
   "execution_count": 45,
   "metadata": {},
   "outputs": [
    {
     "name": "stdout",
     "output_type": "stream",
     "text": [
      "[[1, 0, 0], [0, 0, 0], [1, 0, 1]]\n",
      "[[0, 1, 0], [1, 0, 0], [0, 1, 0]]\n",
      "[[0, 0, 0], [1, 0, 0], [1, 1, 0]]\n",
      "[[0, 0, 0], [1, 1, 1], [0, 0, 0]]\n",
      "[[0, 0, 0], [0, 0, 1], [1, 0, 1]]\n",
      "[[1, 0, 1], [0, 1, 0], [0, 0, 0]]\n",
      "[[0, 0, 1], [0, 0, 0], [0, 1, 1]]\n",
      "[[0, 1, 1], [0, 0, 0], [0, 1, 0]]\n",
      "[[0, 0, 0], [0, 1, 1], [0, 0, 1]]\n",
      "[[0, 0, 1], [0, 0, 0], [1, 1, 0]]\n"
     ]
    }
   ],
   "source": [
    "rand_matrix = random_pattern()\n",
    "for _ in range(10):\n",
    "    print(next(rand_matrix))"
   ]
  },
  {
   "cell_type": "code",
   "execution_count": null,
   "metadata": {},
   "outputs": [],
   "source": []
  }
 ],
 "metadata": {
  "kernelspec": {
   "display_name": "Python 3",
   "language": "python",
   "name": "python3"
  },
  "language_info": {
   "codemirror_mode": {
    "name": "ipython",
    "version": 3
   },
   "file_extension": ".py",
   "mimetype": "text/x-python",
   "name": "python",
   "nbconvert_exporter": "python",
   "pygments_lexer": "ipython3",
   "version": "3.8.5"
  }
 },
 "nbformat": 4,
 "nbformat_minor": 4
}
