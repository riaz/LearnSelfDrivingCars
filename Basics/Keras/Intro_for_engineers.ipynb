{
 "cells": [
  {
   "cell_type": "code",
   "execution_count": 1,
   "metadata": {},
   "outputs": [],
   "source": [
    "import numpy as np\n",
    "import tensorflow as tf\n",
    "from tensorflow import keras"
   ]
  },
  {
   "cell_type": "code",
   "execution_count": 4,
   "metadata": {},
   "outputs": [],
   "source": [
    "BASE_DIR = \"data\""
   ]
  },
  {
   "cell_type": "markdown",
   "metadata": {},
   "source": [
    "Keras accepts 3 types of data\n",
    "\n",
    "1. Numpy array - if data fits in memory\n",
    "2. Tensorflow Dataset - useful for datasets that dont fit in memory\n",
    "    - useful for\n",
    "        - asynchronous preprocessing of data on CPU when GPU is busy and buffering to queue\n",
    "        - prefetching data on GPU so that its available immediately when the GPU is finished with previous batch\n",
    "3. Python generators - yeilds batch of data [custom subclasses of keras.utils.Sequence]"
   ]
  },
  {
   "cell_type": "markdown",
   "metadata": {},
   "source": [
    "Keras has a lot of utility function to turn raw data into Dataset\n",
    "\n",
    "    - tf.keras.preprocessing.image_dataset_from_directory\n",
    "    - tf.keras.preprocessing.text_dataset_from_directory"
   ]
  },
  {
   "cell_type": "code",
   "execution_count": 11,
   "metadata": {},
   "outputs": [
    {
     "name": "stdout",
     "output_type": "stream",
     "text": [
      "Found 7 files belonging to 4 classes.\n",
      "(7, 200, 200, 3)\n",
      "<dtype: 'float32'>\n",
      "(7,)\n",
      "<dtype: 'int32'>\n"
     ]
    }
   ],
   "source": [
    "# example directory\n",
    "import os\n",
    "ex1_sample = os.path.join(BASE_DIR, \"sample_images\")\n",
    "ex1_dataset = keras.preprocessing.image_dataset_from_directory(ex1_sample, batch_size=64, image_size=(200,200))\n",
    "\n",
    "# lets iterate throught the dataset\n",
    "for data, label in ex1_dataset:\n",
    "    print(data.shape)\n",
    "    print(data.dtype)\n",
    "    print(label.shape)\n",
    "    print(label.dtype)"
   ]
  },
  {
   "cell_type": "markdown",
   "metadata": {},
   "source": [
    "Using Keras preprocessing layers\n",
    "\n",
    "In Keras, you do in-model data preprocessing via preprocessing layers. This includes:\n",
    "\n",
    "Vectorizing raw strings of text via the TextVectorization layer\n",
    "Feature normalization via the Normalization layer\n",
    "Image rescaling, cropping, or image data augmentation\n",
    "The key advantage of using Keras preprocessing layers is that they can be included directly into your model, either during training or after training, which makes your models portable.\n",
    "\n",
    "Some preprocessing layers have a state:\n",
    "\n",
    "TextVectorization holds an index mapping words or tokens to integer indices\n",
    "Normalization holds the mean and variance of your features"
   ]
  },
  {
   "cell_type": "code",
   "execution_count": 21,
   "metadata": {},
   "outputs": [
    {
     "name": "stdout",
     "output_type": "stream",
     "text": [
      "tf.Tensor(\n",
      "[[2 5 3 7 4]\n",
      " [2 5 3 6 4]], shape=(2, 5), dtype=int64)\n"
     ]
    }
   ],
   "source": [
    "### turning strings into sequence of words\n",
    "\n",
    "from tensorflow.keras.layers.experimental.preprocessing import TextVectorization\n",
    "\n",
    "training_data = np.array([[\"This is the first sample\"],[\"This is the second sample\"]])\n",
    "\n",
    "# creating a text vectorization layer instance, and return integer token instances\n",
    "# or a dense token representation like a one-hot or TF-IDF\n",
    "vectorizer = TextVectorization(output_mode='int')\n",
    "\n",
    "# adapt method is used to generate a vocabulary\n",
    "vectorizer.adapt(training_data)\n",
    "\n",
    "# after calling adapt, the layer is able to encode any n-gram it has seen before \n",
    "# in the adapt method earlier\n",
    "\n",
    "integer_data = vectorizer(training_data)\n",
    "print(integer_data)"
   ]
  },
  {
   "cell_type": "code",
   "execution_count": 23,
   "metadata": {},
   "outputs": [
    {
     "name": "stdout",
     "output_type": "stream",
     "text": [
      "tf.Tensor(\n",
      "[[0. 1. 1. 1. 1. 1. 1. 0. 1. 0. 0. 1. 1.]\n",
      " [0. 1. 1. 1. 1. 1. 1. 1. 0. 1. 1. 0. 0.]], shape=(2, 13), dtype=float32)\n"
     ]
    }
   ],
   "source": [
    "### Converting strings to one-hot encoded bigrams\n",
    "\n",
    "from tensorflow.keras.layers.experimental.preprocessing import TextVectorization\n",
    "\n",
    "traning_data = np.array([[\"This is the first sample\"], [\"This is the second sample\"]])\n",
    "\n",
    "vectorizer = TextVectorization(output_mode='binary', ngrams=2)\n",
    "\n",
    "vectorizer.adapt(training_data)\n",
    "\n",
    "integer_data = vectorizer(training_data)\n",
    "print(integer_data)"
   ]
  },
  {
   "cell_type": "markdown",
   "metadata": {},
   "source": [
    "### Normalizing the features"
   ]
  },
  {
   "cell_type": "code",
   "execution_count": 26,
   "metadata": {},
   "outputs": [],
   "source": [
    "from tensorflow.keras.layers.experimental.preprocessing import Normalization\n",
    "\n",
    "training_data = np.random.randint(0,256, size=(64, 200, 200, 3)).astype(\"float32\")"
   ]
  },
  {
   "cell_type": "code",
   "execution_count": 29,
   "metadata": {},
   "outputs": [
    {
     "data": {
      "text/plain": [
       "(64, 200, 200, 3)"
      ]
     },
     "execution_count": 29,
     "metadata": {},
     "output_type": "execute_result"
    }
   ],
   "source": [
    "training_data.shape"
   ]
  },
  {
   "cell_type": "code",
   "execution_count": 27,
   "metadata": {},
   "outputs": [],
   "source": [
    "normalizer = Normalization(axis=1)\n",
    "normalizer.adapt(training_data)"
   ]
  },
  {
   "cell_type": "code",
   "execution_count": 28,
   "metadata": {},
   "outputs": [
    {
     "name": "stdout",
     "output_type": "stream",
     "text": [
      "var: 1.0000\n",
      "mean: -0.0000\n"
     ]
    }
   ],
   "source": [
    "normalized_data = normalizer(training_data)\n",
    "print(\"var: %.4f\" % np.var(normalized_data))\n",
    "print(\"mean: %.4f\" % np.mean(normalized_data))"
   ]
  },
  {
   "cell_type": "markdown",
   "metadata": {},
   "source": [
    "### Rescaling a center cropping images"
   ]
  },
  {
   "cell_type": "code",
   "execution_count": 30,
   "metadata": {},
   "outputs": [
    {
     "name": "stdout",
     "output_type": "stream",
     "text": [
      "shape:  (64, 150, 150, 3)\n",
      "min:  0.0\n",
      "max:  1.0\n"
     ]
    }
   ],
   "source": [
    "from tensorflow.keras.layers.experimental.preprocessing import CenterCrop\n",
    "from tensorflow.keras.layers.experimental.preprocessing import Rescaling\n",
    "\n",
    "training_data = np.random.randint(0, 256, size=(64,200,200,3)).astype(\"float32\")\n",
    "\n",
    "cropper = CenterCrop(height=150, width=150)\n",
    "scaler = Rescaling(scale=1.0 / 255)\n",
    "\n",
    "output_data = scaler(cropper(training_data)) # pipelined\n",
    "print(\"shape: \", output_data.shape)\n",
    "print(\"min: \", np.min(output_data))\n",
    "print(\"max: \", np.max(output_data))"
   ]
  },
  {
   "cell_type": "markdown",
   "metadata": {},
   "source": [
    "### Building models with keras functional APIs"
   ]
  },
  {
   "cell_type": "code",
   "execution_count": 31,
   "metadata": {},
   "outputs": [],
   "source": [
    "inputs = keras.Input(shape=(None, None, 3)) # this will accept image of any size, 3 channel"
   ]
  },
  {
   "cell_type": "code",
   "execution_count": 32,
   "metadata": {},
   "outputs": [],
   "source": [
    "from tensorflow.keras import layers"
   ]
  },
  {
   "cell_type": "code",
   "execution_count": 35,
   "metadata": {},
   "outputs": [],
   "source": [
    "x = CenterCrop(height=150, width=150)(inputs)\n",
    "x = Rescaling(scale=1.0/255)(x)\n",
    "\n",
    "# Applying convolutions and max-polling\n",
    "x = layers.Conv2D(filters=32, kernel_size=(3,3), activation='relu')(x)\n",
    "x = layers.MaxPooling2D(pool_size=(3, 3))(x)\n",
    "x = layers.Conv2D(filters=32, kernel_size=(3,3), activation='relu')(x)\n",
    "x = layers.MaxPooling2D(pool_size=(3, 3))(x)\n",
    "x = layers.Conv2D(filters=32, kernel_size=(3,3), activation='relu')(x)\n",
    "\n",
    "# Applying global average pooling to get flat feature vectors\n",
    "x = layers.GlobalAveragePooling2D()(x)\n",
    "\n",
    "# Adding dense classifier on top\n",
    "num_classes = 10\n",
    "outputs = layers.Dense(num_classes, activation=\"softmax\")(x)"
   ]
  },
  {
   "cell_type": "code",
   "execution_count": 36,
   "metadata": {},
   "outputs": [],
   "source": [
    "model = keras.Model(inputs=inputs, outputs=outputs)"
   ]
  },
  {
   "cell_type": "code",
   "execution_count": 38,
   "metadata": {},
   "outputs": [
    {
     "name": "stdout",
     "output_type": "stream",
     "text": [
      "(64, 200, 200, 3)\n",
      "(64, 10)\n"
     ]
    }
   ],
   "source": [
    "data = np.random.randint(0, 256, size=(64,200,200,3)).astype('float32')\n",
    "out_data = model(data)\n",
    "#### input_shape\n",
    "print(data.shape)\n",
    "#### output shape\n",
    "print(out_data.shape)"
   ]
  },
  {
   "cell_type": "code",
   "execution_count": 40,
   "metadata": {},
   "outputs": [],
   "source": [
    "# Printing a summary of how the data is getting transformed down\n",
    "# this pipeline"
   ]
  },
  {
   "cell_type": "code",
   "execution_count": 41,
   "metadata": {},
   "outputs": [
    {
     "name": "stdout",
     "output_type": "stream",
     "text": [
      "Model: \"model\"\n",
      "_________________________________________________________________\n",
      "Layer (type)                 Output Shape              Param #   \n",
      "=================================================================\n",
      "input_1 (InputLayer)         [(None, None, None, 3)]   0         \n",
      "_________________________________________________________________\n",
      "center_crop_3 (CenterCrop)   (None, 150, 150, 3)       0         \n",
      "_________________________________________________________________\n",
      "rescaling_3 (Rescaling)      (None, 150, 150, 3)       0         \n",
      "_________________________________________________________________\n",
      "conv2d_3 (Conv2D)            (None, 148, 148, 32)      896       \n",
      "_________________________________________________________________\n",
      "max_pooling2d_1 (MaxPooling2 (None, 49, 49, 32)        0         \n",
      "_________________________________________________________________\n",
      "conv2d_4 (Conv2D)            (None, 47, 47, 32)        9248      \n",
      "_________________________________________________________________\n",
      "max_pooling2d_2 (MaxPooling2 (None, 15, 15, 32)        0         \n",
      "_________________________________________________________________\n",
      "conv2d_5 (Conv2D)            (None, 13, 13, 32)        9248      \n",
      "_________________________________________________________________\n",
      "global_average_pooling2d (Gl (None, 32)                0         \n",
      "_________________________________________________________________\n",
      "dense (Dense)                (None, 10)                330       \n",
      "=================================================================\n",
      "Total params: 19,722\n",
      "Trainable params: 19,722\n",
      "Non-trainable params: 0\n",
      "_________________________________________________________________\n"
     ]
    }
   ],
   "source": [
    "model.summary()"
   ]
  },
  {
   "cell_type": "markdown",
   "metadata": {},
   "source": [
    "### Understaing the above table"
   ]
  },
  {
   "cell_type": "markdown",
   "metadata": {},
   "source": [
    "```\n",
    "The input is of shape (N*I*I*C)\n",
    "# Conv2D\n",
    "The next layer say conv2D - has K      - no of filters\n",
    "                                F      - filter or kernel size(FxF)\n",
    "                                S      - stride\n",
    "                                Pstart - start padding\n",
    "                                Pend   - end of padding\n",
    "                 Dimension of filter   - F * F * C\n",
    "        Output size of feature map(O)  - (I - F + Pstart + Pend)/S + 1\n",
    "                       Output Size     - OxOxK\n",
    "                    Number of params   - (F*F*C+1)*K\n",
    "                    \n",
    " \n",
    " # MaxPooling2D\n",
    "                     Output Size       - OxOxC\n",
    "                  Number of paramerts  - 0\n",
    "                  \n",
    "\n",
    "# FCN\n",
    "                         Output Size   - No_of_classes\n",
    "                       Num of params   - (Nin + 1)* Out Size\n",
    "     \n",
    "                                \n",
    "                               \n",
    "                               \n",
    "Note: 3 types of padding\n",
    "    1) Zero padding - Pstart == Pend == 0\n",
    "    2) Same padding - Pstart = S[I/S]-I+F-S/2\n",
    "                      Pend   = S[I/S]-I+F-S/2\n",
    "    3) Full padding   Pstart = [0, F-1]\n",
    "                      Pend = F-1\n",
    "```"
   ]
  },
  {
   "cell_type": "markdown",
   "metadata": {},
   "source": [
    "```\n",
    "First Conv(K=32, F=3, I =150, C = 3, P=0)\n",
    "    No.of params = (F*F*C+1)*K \n",
    "                 = (3*3*3+1)*32 = 896    -----------1\n",
    "        \n",
    "    Output(O) =  (150-3)+1 = 148        \n",
    "    Output Shape = OxOxK = 148*148*32\n",
    "\n",
    "MaxPool Layer1 (F=3, I = 148, C=32)\n",
    "    No of params = 0\n",
    "    Output (O) = floor[I/F] = 49\n",
    "    Output Shape = OxOxK = 49*49*32\n",
    "            \n",
    "\n",
    "Second Conv(K=32, F=3, I = 49, C=32, P=0)\n",
    "      No. of params = (F*F*C+1)*K = 9248   ----------2\n",
    "      Output(O) =  I - F + 2P/S +1 = (49-3)+1 = 47\n",
    "      Output Shape = 47*47*32\n",
    "      \n",
    "MaxPool Layer 2(F=3, I = 47, C=32)\n",
    "    No of params = 0\n",
    "    Output(O) = floor[I/F] = 15\n",
    "    Output Shape = 15*15*32 (O*O*C)\n",
    "    \n",
    "Third Conv(K=32, F=3, I=15, P=0, C =32)\n",
    "      No. of params = (F*F*C+1)*K = 9248    ----------3\n",
    "      Output(O) = (I - F  + 2P)/S +1 = (15-3)+1 = 13\n",
    "      Output Shape = 13*13*32\n",
    "      \n",
    "Global Average Pooling Layer will only - C dim (I=13, C=32)\n",
    "         No. of params = 0\n",
    "         Output Shape = 32 , (I is averaged)\n",
    "\n",
    "Dense   (I=32, O=10)\n",
    "        No. of params = (32+1)*10 = 330     -----------4\n",
    "        Output Shape = 10\n",
    "      \n",
    "      \n",
    "Total params = 896 + 2 * (9248) + 330 = 19,722 [trainable params (FC+CNN)] \n",
    "```"
   ]
  },
  {
   "cell_type": "markdown",
   "metadata": {},
   "source": [
    "### Now that we have model and data, we will train"
   ]
  },
  {
   "cell_type": "code",
   "execution_count": 45,
   "metadata": {},
   "outputs": [],
   "source": [
    "model.compile(optimizer=\n",
    "              keras.optimizers.RMSprop(learning_rate=1e-3),\n",
    "              loss=keras.losses.CategoricalCrossentropy())"
   ]
  },
  {
   "cell_type": "markdown",
   "metadata": {},
   "source": [
    "### Once the model is compiled, we will try to fir the data to the model"
   ]
  },
  {
   "cell_type": "code",
   "execution_count": null,
   "metadata": {},
   "outputs": [],
   "source": [
    "model.fit(numpy_arrays_of_samples, \n",
    "          numpy_array_of_labels, \n",
    "          batch_size=32,\n",
    "          epochs=10)"
   ]
  },
  {
   "cell_type": "markdown",
   "metadata": {},
   "source": [
    "### Toy example - MNIST"
   ]
  },
  {
   "cell_type": "code",
   "execution_count": 51,
   "metadata": {},
   "outputs": [
    {
     "name": "stdout",
     "output_type": "stream",
     "text": [
      "Model: \"model_2\"\n",
      "_________________________________________________________________\n",
      "Layer (type)                 Output Shape              Param #   \n",
      "=================================================================\n",
      "input_4 (InputLayer)         [(None, 28, 28)]          0         \n",
      "_________________________________________________________________\n",
      "rescaling_5 (Rescaling)      (None, 28, 28)            0         \n",
      "_________________________________________________________________\n",
      "flatten_1 (Flatten)          (None, 784)               0         \n",
      "_________________________________________________________________\n",
      "dense_4 (Dense)              (None, 128)               100480    \n",
      "_________________________________________________________________\n",
      "dense_5 (Dense)              (None, 128)               16512     \n",
      "_________________________________________________________________\n",
      "dense_6 (Dense)              (None, 10)                1290      \n",
      "=================================================================\n",
      "Total params: 118,282\n",
      "Trainable params: 118,282\n",
      "Non-trainable params: 0\n",
      "_________________________________________________________________\n",
      "Fit on NumPy data\n",
      "938/938 [==============================] - 1s 1ms/step - loss: 0.2644\n",
      "Fit on Dataset\n",
      "Epoch 1/100\n",
      "938/938 [==============================] - 1s 1ms/step - loss: 0.1154\n",
      "Epoch 2/100\n",
      "938/938 [==============================] - 1s 1ms/step - loss: 0.0774\n",
      "Epoch 3/100\n",
      "938/938 [==============================] - 1s 1ms/step - loss: 0.0559\n",
      "Epoch 4/100\n",
      "938/938 [==============================] - 1s 1ms/step - loss: 0.0411\n",
      "Epoch 5/100\n",
      "938/938 [==============================] - 1s 1ms/step - loss: 0.0308\n",
      "Epoch 6/100\n",
      "938/938 [==============================] - 1s 1ms/step - loss: 0.0255\n",
      "Epoch 7/100\n",
      "938/938 [==============================] - 1s 1ms/step - loss: 0.0215\n",
      "Epoch 8/100\n",
      "938/938 [==============================] - 1s 1ms/step - loss: 0.0199\n",
      "Epoch 9/100\n",
      "938/938 [==============================] - 1s 1ms/step - loss: 0.0203\n",
      "Epoch 10/100\n",
      "938/938 [==============================] - 1s 1ms/step - loss: 0.0140\n",
      "Epoch 11/100\n",
      "938/938 [==============================] - 1s 1ms/step - loss: 0.0161\n",
      "Epoch 12/100\n",
      "938/938 [==============================] - 1s 1ms/step - loss: 0.0108\n",
      "Epoch 13/100\n",
      "938/938 [==============================] - 1s 1ms/step - loss: 0.0129\n",
      "Epoch 14/100\n",
      "938/938 [==============================] - 1s 1ms/step - loss: 0.0118\n",
      "Epoch 15/100\n",
      "938/938 [==============================] - 1s 1ms/step - loss: 0.0083\n",
      "Epoch 16/100\n",
      "938/938 [==============================] - 1s 1ms/step - loss: 0.0135\n",
      "Epoch 17/100\n",
      "938/938 [==============================] - 1s 1ms/step - loss: 0.0081\n",
      "Epoch 18/100\n",
      "938/938 [==============================] - 1s 1ms/step - loss: 0.0083\n",
      "Epoch 19/100\n",
      "938/938 [==============================] - 1s 1ms/step - loss: 0.0099\n",
      "Epoch 20/100\n",
      "938/938 [==============================] - 1s 1ms/step - loss: 0.0075\n",
      "Epoch 21/100\n",
      "938/938 [==============================] - 1s 1ms/step - loss: 0.0087\n",
      "Epoch 22/100\n",
      "938/938 [==============================] - 1s 1ms/step - loss: 0.0093\n",
      "Epoch 23/100\n",
      "938/938 [==============================] - 1s 1ms/step - loss: 0.0076\n",
      "Epoch 24/100\n",
      "938/938 [==============================] - 1s 1ms/step - loss: 0.0089\n",
      "Epoch 25/100\n",
      "938/938 [==============================] - 1s 1ms/step - loss: 0.0069\n",
      "Epoch 26/100\n",
      "938/938 [==============================] - 1s 1ms/step - loss: 0.0063\n",
      "Epoch 27/100\n",
      "938/938 [==============================] - 1s 1ms/step - loss: 0.0063\n",
      "Epoch 28/100\n",
      "938/938 [==============================] - 1s 1ms/step - loss: 0.0085\n",
      "Epoch 29/100\n",
      "938/938 [==============================] - 1s 1ms/step - loss: 0.0037\n",
      "Epoch 30/100\n",
      "938/938 [==============================] - 1s 1ms/step - loss: 0.0083\n",
      "Epoch 31/100\n",
      "938/938 [==============================] - 1s 1ms/step - loss: 0.0067\n",
      "Epoch 32/100\n",
      "938/938 [==============================] - 1s 1ms/step - loss: 0.0089\n",
      "Epoch 33/100\n",
      "938/938 [==============================] - 1s 1ms/step - loss: 0.0077\n",
      "Epoch 34/100\n",
      "938/938 [==============================] - 1s 1ms/step - loss: 0.0060\n",
      "Epoch 35/100\n",
      "938/938 [==============================] - 1s 1ms/step - loss: 0.0038\n",
      "Epoch 36/100\n",
      "938/938 [==============================] - 1s 1ms/step - loss: 0.0051\n",
      "Epoch 37/100\n",
      "938/938 [==============================] - 1s 1ms/step - loss: 0.0058\n",
      "Epoch 38/100\n",
      "938/938 [==============================] - 1s 1ms/step - loss: 0.0074\n",
      "Epoch 39/100\n",
      "938/938 [==============================] - 1s 1ms/step - loss: 0.0032\n",
      "Epoch 40/100\n",
      "938/938 [==============================] - 1s 1ms/step - loss: 0.0047\n",
      "Epoch 41/100\n",
      "938/938 [==============================] - 1s 1ms/step - loss: 0.0089\n",
      "Epoch 42/100\n",
      "938/938 [==============================] - 1s 1ms/step - loss: 0.0041\n",
      "Epoch 43/100\n",
      "938/938 [==============================] - 1s 1ms/step - loss: 0.0033\n",
      "Epoch 44/100\n",
      "938/938 [==============================] - 1s 1ms/step - loss: 0.0081\n",
      "Epoch 45/100\n",
      "938/938 [==============================] - 1s 1ms/step - loss: 0.0049\n",
      "Epoch 46/100\n",
      "938/938 [==============================] - 1s 1ms/step - loss: 0.0047\n",
      "Epoch 47/100\n",
      "938/938 [==============================] - 1s 1ms/step - loss: 0.0051\n",
      "Epoch 48/100\n",
      "938/938 [==============================] - 1s 1ms/step - loss: 0.0064\n",
      "Epoch 49/100\n",
      "938/938 [==============================] - 1s 1ms/step - loss: 0.0052\n",
      "Epoch 50/100\n",
      "938/938 [==============================] - 1s 1ms/step - loss: 0.0046\n",
      "Epoch 51/100\n",
      "938/938 [==============================] - 1s 1ms/step - loss: 0.0044\n",
      "Epoch 52/100\n",
      "938/938 [==============================] - 1s 1ms/step - loss: 0.0068\n",
      "Epoch 53/100\n",
      "938/938 [==============================] - 1s 1ms/step - loss: 0.0045\n",
      "Epoch 54/100\n",
      "938/938 [==============================] - 1s 1ms/step - loss: 0.0023\n",
      "Epoch 55/100\n",
      "938/938 [==============================] - 1s 1ms/step - loss: 0.0047\n",
      "Epoch 56/100\n",
      "938/938 [==============================] - 1s 1ms/step - loss: 0.0063\n",
      "Epoch 57/100\n",
      "938/938 [==============================] - 1s 1ms/step - loss: 0.0043\n",
      "Epoch 58/100\n",
      "938/938 [==============================] - 1s 1ms/step - loss: 0.0042\n",
      "Epoch 59/100\n",
      "938/938 [==============================] - 1s 1ms/step - loss: 0.0028\n",
      "Epoch 60/100\n",
      "938/938 [==============================] - 1s 1ms/step - loss: 0.0043\n",
      "Epoch 61/100\n",
      "938/938 [==============================] - 1s 1ms/step - loss: 0.0063\n",
      "Epoch 62/100\n",
      "938/938 [==============================] - 1s 1ms/step - loss: 0.0034\n",
      "Epoch 63/100\n",
      "938/938 [==============================] - 1s 1ms/step - loss: 0.0060\n",
      "Epoch 64/100\n",
      "938/938 [==============================] - 1s 1ms/step - loss: 0.0040\n",
      "Epoch 65/100\n",
      "938/938 [==============================] - 1s 1ms/step - loss: 0.0032\n",
      "Epoch 66/100\n",
      "938/938 [==============================] - 1s 1ms/step - loss: 0.0060\n",
      "Epoch 67/100\n",
      "938/938 [==============================] - 1s 1ms/step - loss: 0.0013\n",
      "Epoch 68/100\n",
      "938/938 [==============================] - 1s 1ms/step - loss: 0.0025\n",
      "Epoch 69/100\n",
      "938/938 [==============================] - 1s 1ms/step - loss: 0.0069\n",
      "Epoch 70/100\n",
      "938/938 [==============================] - 1s 1ms/step - loss: 0.0044\n",
      "Epoch 71/100\n",
      "938/938 [==============================] - 1s 1ms/step - loss: 0.0038\n",
      "Epoch 72/100\n",
      "938/938 [==============================] - 1s 1ms/step - loss: 0.0048\n",
      "Epoch 73/100\n",
      "938/938 [==============================] - 1s 1ms/step - loss: 0.0039\n",
      "Epoch 74/100\n",
      "938/938 [==============================] - 1s 1ms/step - loss: 0.0029\n",
      "Epoch 75/100\n",
      "938/938 [==============================] - 1s 1ms/step - loss: 0.0045\n",
      "Epoch 76/100\n",
      "938/938 [==============================] - 1s 1ms/step - loss: 0.0027\n",
      "Epoch 77/100\n",
      "938/938 [==============================] - 1s 1ms/step - loss: 0.0043\n",
      "Epoch 78/100\n",
      "938/938 [==============================] - 1s 2ms/step - loss: 0.0044\n",
      "Epoch 79/100\n",
      "938/938 [==============================] - 1s 2ms/step - loss: 0.0025\n",
      "Epoch 80/100\n",
      "938/938 [==============================] - 2s 2ms/step - loss: 0.0049\n",
      "Epoch 81/100\n",
      "938/938 [==============================] - 1s 2ms/step - loss: 0.0052\n",
      "Epoch 82/100\n",
      "938/938 [==============================] - 2s 2ms/step - loss: 0.0030\n",
      "Epoch 83/100\n",
      "938/938 [==============================] - 2s 2ms/step - loss: 0.0023\n",
      "Epoch 84/100\n",
      "938/938 [==============================] - 2s 2ms/step - loss: 0.0061\n",
      "Epoch 85/100\n",
      "938/938 [==============================] - 2s 2ms/step - loss: 0.0038\n",
      "Epoch 86/100\n",
      "938/938 [==============================] - 2s 2ms/step - loss: 0.0037\n",
      "Epoch 87/100\n",
      "938/938 [==============================] - 2s 2ms/step - loss: 0.0034\n",
      "Epoch 88/100\n",
      "938/938 [==============================] - 2s 2ms/step - loss: 0.0037\n",
      "Epoch 89/100\n",
      "938/938 [==============================] - 2s 2ms/step - loss: 0.0026\n",
      "Epoch 90/100\n",
      "938/938 [==============================] - 2s 2ms/step - loss: 0.0046\n",
      "Epoch 91/100\n",
      "938/938 [==============================] - 2s 2ms/step - loss: 0.0033\n",
      "Epoch 92/100\n",
      "938/938 [==============================] - 2s 2ms/step - loss: 0.0028\n",
      "Epoch 93/100\n",
      "938/938 [==============================] - 2s 2ms/step - loss: 0.0025\n",
      "Epoch 94/100\n",
      "938/938 [==============================] - 2s 2ms/step - loss: 0.0036\n",
      "Epoch 95/100\n",
      "938/938 [==============================] - 2s 2ms/step - loss: 0.0053\n",
      "Epoch 96/100\n",
      "938/938 [==============================] - 1s 2ms/step - loss: 0.0025\n",
      "Epoch 97/100\n",
      "938/938 [==============================] - 1s 2ms/step - loss: 0.0043\n",
      "Epoch 98/100\n",
      "938/938 [==============================] - 1s 1ms/step - loss: 0.0031\n",
      "Epoch 99/100\n",
      "938/938 [==============================] - 1s 1ms/step - loss: 0.0022\n",
      "Epoch 100/100\n",
      "938/938 [==============================] - 1s 1ms/step - loss: 0.0056\n"
     ]
    }
   ],
   "source": [
    "# Get the data as Numpy arrays\n",
    "(x_train, y_train), (x_test, y_test) = keras.datasets.mnist.load_data()\n",
    "\n",
    "# Build a simple model\n",
    "inputs = keras.Input(shape=(28, 28))\n",
    "x = Rescaling(1.0 / 255)(inputs)\n",
    "x = layers.Flatten()(x)\n",
    "x = layers.Dense(128, activation=\"relu\")(x)\n",
    "x = layers.Dense(128, activation=\"relu\")(x)\n",
    "outputs = layers.Dense(10, activation=\"softmax\")(x)\n",
    "model = keras.Model(inputs, outputs)\n",
    "model.summary()\n",
    "\n",
    "# Compile the model\n",
    "model.compile(optimizer=\"adam\", loss=\"sparse_categorical_crossentropy\")\n",
    "\n",
    "# Train the model for 1 epoch from Numpy data\n",
    "batch_size = 64\n",
    "print(\"Fit on NumPy data\")\n",
    "history = model.fit(x_train, y_train, batch_size=batch_size, epochs=1)\n",
    "\n",
    "# Train the model for 1 epoch using a dataset\n",
    "dataset = tf.data.Dataset.from_tensor_slices((x_train, y_train)).batch(batch_size)\n",
    "print(\"Fit on Dataset\")\n",
    "history = model.fit(dataset, epochs=100)\n"
   ]
  },
  {
   "cell_type": "code",
   "execution_count": 52,
   "metadata": {},
   "outputs": [
    {
     "name": "stdout",
     "output_type": "stream",
     "text": [
      "{'loss': [0.11538337171077728, 0.07739068567752838, 0.05588624253869057, 0.041063304990530014, 0.030807601287961006, 0.025458209216594696, 0.02145235612988472, 0.01987391896545887, 0.02032712660729885, 0.014030501246452332, 0.016062753275036812, 0.010846823453903198, 0.012881933711469173, 0.011789713986217976, 0.00826964806765318, 0.01346042100340128, 0.008084124885499477, 0.008270231075584888, 0.009916430339217186, 0.007499664090573788, 0.00874023512005806, 0.009303811937570572, 0.0076078143902122974, 0.00893585104495287, 0.006909180898219347, 0.006265826988965273, 0.0063356682658195496, 0.008525144308805466, 0.0036899938713759184, 0.008277119137346745, 0.006698316428810358, 0.008872058242559433, 0.007671100553125143, 0.006016954779624939, 0.003829379566013813, 0.005144134163856506, 0.005758003797382116, 0.007364135235548019, 0.003244301537051797, 0.004738905001431704, 0.008858981542289257, 0.004137018695473671, 0.003344170982018113, 0.008132550865411758, 0.0048753139562904835, 0.004733922425657511, 0.005065707955509424, 0.006355931982398033, 0.00520517211407423, 0.004563671536743641, 0.004437866620719433, 0.006810528691858053, 0.0045153978280723095, 0.0022641385439783335, 0.004687880165874958, 0.006314330734312534, 0.004270518198609352, 0.004163480829447508, 0.0027630298864096403, 0.004291771911084652, 0.006261140573769808, 0.003360247239470482, 0.0060096438974142075, 0.0039746384136378765, 0.0031620885711163282, 0.0059594688937067986, 0.0013265775050967932, 0.0024860308039933443, 0.006855462212115526, 0.0044190664775669575, 0.003820332232862711, 0.004829352255910635, 0.0039034292567521334, 0.0028983154334127903, 0.004529239609837532, 0.002709008986130357, 0.004281522706151009, 0.004405975807458162, 0.0024567232467234135, 0.004854780621826649, 0.005190283991396427, 0.003024129429832101, 0.0023452220484614372, 0.006114496383816004, 0.0037623716052621603, 0.003669307567179203, 0.0034406096674501896, 0.003656940534710884, 0.002577051753178239, 0.0046495115384459496, 0.003338060574606061, 0.0027582156471908092, 0.002517105545848608, 0.0036276080645620823, 0.0052956268191337585, 0.0024903216399252415, 0.004313895478844643, 0.0031180833466351032, 0.0022406212519854307, 0.005647409241646528]}\n"
     ]
    }
   ],
   "source": [
    "print(history.history)"
   ]
  },
  {
   "cell_type": "code",
   "execution_count": 56,
   "metadata": {},
   "outputs": [
    {
     "name": "stdout",
     "output_type": "stream",
     "text": [
      "dict_keys(['loss'])\n"
     ]
    }
   ],
   "source": [
    "print(history.history.keys())"
   ]
  },
  {
   "cell_type": "markdown",
   "metadata": {},
   "source": [
    "#### Plotting the loss function"
   ]
  },
  {
   "cell_type": "code",
   "execution_count": 57,
   "metadata": {},
   "outputs": [
    {
     "data": {
      "image/png": "[encoded data removed]",
      "text/plain": [
       "<Figure size 432x288 with 1 Axes>"
      ]
     },
     "metadata": {
      "needs_background": "light"
     },
     "output_type": "display_data"
    }
   ],
   "source": [
    "import keras\n",
    "from matplotlib import pyplot as plt\n",
    "plt.plot(history.history['loss'])\n",
    "plt.title('model loss')\n",
    "plt.ylabel('loss')\n",
    "plt.xlabel('epoch')\n",
    "plt.legend(['train'], loc='upper left')\n",
    "plt.show()"
   ]
  },
  {
   "cell_type": "code",
   "execution_count": 58,
   "metadata": {},
   "outputs": [
    {
     "name": "stdout",
     "output_type": "stream",
     "text": [
      "938/938 [==============================] - 3s 1ms/step - loss: 0.0041 - acc: 0.9994\n"
     ]
    }
   ],
   "source": [
    "#### Tracking performance metrics for the model\n",
    "model.compile(\n",
    "    optimizer=\"adam\",\n",
    "    loss=\"sparse_categorical_crossentropy\",\n",
    "    metrics=[keras.metrics.SparseCategoricalAccuracy(name=\"acc\")],\n",
    ")\n",
    "history = model.fit(dataset, epochs=1)"
   ]
  },
  {
   "cell_type": "markdown",
   "metadata": {},
   "source": [
    "### Passing validation data to fit"
   ]
  },
  {
   "cell_type": "code",
   "execution_count": 64,
   "metadata": {},
   "outputs": [
    {
     "name": "stdout",
     "output_type": "stream",
     "text": [
      "Epoch 1/50\n",
      "938/938 [==============================] - 1s 1ms/step - loss: 0.0059 - acc: 0.9967 - val_loss: 0.2466 - val_acc: 0.9966\n",
      "Epoch 2/50\n",
      "938/938 [==============================] - 1s 1ms/step - loss: 0.0039 - acc: 0.9966 - val_loss: 0.2563 - val_acc: 0.9966\n",
      "Epoch 3/50\n",
      "938/938 [==============================] - 1s 1ms/step - loss: 0.0033 - acc: 0.9967 - val_loss: 0.2327 - val_acc: 0.9966\n",
      "Epoch 4/50\n",
      "938/938 [==============================] - 1s 1ms/step - loss: 0.0011 - acc: 0.9967 - val_loss: 0.2351 - val_acc: 0.9967\n",
      "Epoch 5/50\n",
      "938/938 [==============================] - 1s 1ms/step - loss: 0.0045 - acc: 0.9967 - val_loss: 0.2660 - val_acc: 0.9967\n",
      "Epoch 6/50\n",
      "938/938 [==============================] - 1s 1ms/step - loss: 0.0076 - acc: 0.9967 - val_loss: 0.2623 - val_acc: 0.9967\n",
      "Epoch 7/50\n",
      "938/938 [==============================] - 1s 1ms/step - loss: 5.5225e-04 - acc: 0.9967 - val_loss: 0.2404 - val_acc: 0.9967\n",
      "Epoch 8/50\n",
      "938/938 [==============================] - 1s 1ms/step - loss: 0.0021 - acc: 0.9967 - val_loss: 0.2692 - val_acc: 0.9967\n",
      "Epoch 9/50\n",
      "938/938 [==============================] - 1s 1ms/step - loss: 0.0073 - acc: 0.9967 - val_loss: 0.2687 - val_acc: 0.9967\n",
      "Epoch 10/50\n",
      "938/938 [==============================] - 1s 1ms/step - loss: 0.0040 - acc: 0.9967 - val_loss: 0.2552 - val_acc: 0.9967\n",
      "Epoch 11/50\n",
      "938/938 [==============================] - 1s 1ms/step - loss: 0.0018 - acc: 0.9967 - val_loss: 0.2447 - val_acc: 0.9967\n",
      "Epoch 12/50\n",
      "938/938 [==============================] - 1s 1ms/step - loss: 0.0022 - acc: 0.9967 - val_loss: 0.3052 - val_acc: 0.9967\n",
      "Epoch 13/50\n",
      "938/938 [==============================] - 1s 1ms/step - loss: 0.0063 - acc: 0.9967 - val_loss: 0.2567 - val_acc: 0.9967\n",
      "Epoch 14/50\n",
      "938/938 [==============================] - 1s 1ms/step - loss: 0.0026 - acc: 0.9967 - val_loss: 0.2956 - val_acc: 0.9967\n",
      "Epoch 15/50\n",
      "938/938 [==============================] - 1s 1ms/step - loss: 0.0041 - acc: 0.9967 - val_loss: 0.3053 - val_acc: 0.9967\n",
      "Epoch 16/50\n",
      "938/938 [==============================] - 1s 1ms/step - loss: 0.0029 - acc: 0.9967 - val_loss: 0.2866 - val_acc: 0.9967\n",
      "Epoch 17/50\n",
      "938/938 [==============================] - 1s 1ms/step - loss: 0.0031 - acc: 0.9967 - val_loss: 0.2719 - val_acc: 0.9967\n",
      "Epoch 18/50\n",
      "938/938 [==============================] - 1s 1ms/step - loss: 0.0039 - acc: 0.9967 - val_loss: 0.2675 - val_acc: 0.9967\n",
      "Epoch 19/50\n",
      "938/938 [==============================] - 1s 1ms/step - loss: 0.0029 - acc: 0.9967 - val_loss: 0.2674 - val_acc: 0.9967\n",
      "Epoch 20/50\n",
      "938/938 [==============================] - 1s 1ms/step - loss: 0.0035 - acc: 0.9967 - val_loss: 0.3239 - val_acc: 0.9967\n",
      "Epoch 21/50\n",
      "938/938 [==============================] - 1s 1ms/step - loss: 0.0047 - acc: 0.9967 - val_loss: 0.3420 - val_acc: 0.9967\n",
      "Epoch 22/50\n",
      "938/938 [==============================] - 1s 1ms/step - loss: 0.0050 - acc: 0.9966 - val_loss: 0.2913 - val_acc: 0.9966\n",
      "Epoch 23/50\n",
      "938/938 [==============================] - 1s 1ms/step - loss: 0.0031 - acc: 0.9966 - val_loss: 0.2629 - val_acc: 0.9966\n",
      "Epoch 24/50\n",
      "938/938 [==============================] - 1s 1ms/step - loss: 0.0012 - acc: 0.9967 - val_loss: 0.2787 - val_acc: 0.9967\n",
      "Epoch 25/50\n",
      "938/938 [==============================] - 1s 1ms/step - loss: 0.0046 - acc: 0.9966 - val_loss: 0.3340 - val_acc: 0.9966\n",
      "Epoch 26/50\n",
      "938/938 [==============================] - 1s 1ms/step - loss: 0.0028 - acc: 0.9966 - val_loss: 0.2598 - val_acc: 0.9966\n",
      "Epoch 27/50\n",
      "938/938 [==============================] - 1s 1ms/step - loss: 0.0037 - acc: 0.9966 - val_loss: 0.2962 - val_acc: 0.9966\n",
      "Epoch 28/50\n",
      "938/938 [==============================] - 1s 1ms/step - loss: 0.0053 - acc: 0.9966 - val_loss: 0.3175 - val_acc: 0.9966\n",
      "Epoch 29/50\n",
      "938/938 [==============================] - 1s 1ms/step - loss: 0.0024 - acc: 0.9966 - val_loss: 0.2918 - val_acc: 0.9966\n",
      "Epoch 30/50\n",
      "938/938 [==============================] - 1s 1ms/step - loss: 0.0012 - acc: 0.9966 - val_loss: 0.2661 - val_acc: 0.9967\n",
      "Epoch 31/50\n",
      "938/938 [==============================] - 1s 1ms/step - loss: 0.0046 - acc: 0.9967 - val_loss: 0.2795 - val_acc: 0.9967\n",
      "Epoch 32/50\n",
      "938/938 [==============================] - 1s 1ms/step - loss: 0.0019 - acc: 0.9967 - val_loss: 0.3029 - val_acc: 0.9967\n",
      "Epoch 33/50\n",
      "938/938 [==============================] - 1s 1ms/step - loss: 0.0045 - acc: 0.9967 - val_loss: 0.3205 - val_acc: 0.9967\n",
      "Epoch 34/50\n",
      "938/938 [==============================] - 1s 1ms/step - loss: 0.0061 - acc: 0.9967 - val_loss: 0.2874 - val_acc: 0.9967\n",
      "Epoch 35/50\n",
      "938/938 [==============================] - 1s 1ms/step - loss: 0.0026 - acc: 0.9967 - val_loss: 0.2879 - val_acc: 0.9967\n",
      "Epoch 36/50\n",
      "938/938 [==============================] - 1s 1ms/step - loss: 0.0019 - acc: 0.9967 - val_loss: 0.2995 - val_acc: 0.9967\n",
      "Epoch 37/50\n",
      "938/938 [==============================] - 1s 1ms/step - loss: 0.0031 - acc: 0.9967 - val_loss: 0.3836 - val_acc: 0.9967\n",
      "Epoch 38/50\n",
      "938/938 [==============================] - 1s 1ms/step - loss: 0.0060 - acc: 0.9967 - val_loss: 0.3176 - val_acc: 0.9967\n",
      "Epoch 39/50\n",
      "938/938 [==============================] - 1s 1ms/step - loss: 0.0022 - acc: 0.9967 - val_loss: 0.3306 - val_acc: 0.9967\n",
      "Epoch 40/50\n",
      "938/938 [==============================] - 1s 1ms/step - loss: 0.0027 - acc: 0.9967 - val_loss: 0.3580 - val_acc: 0.9967\n",
      "Epoch 41/50\n",
      "938/938 [==============================] - 1s 1ms/step - loss: 0.0016 - acc: 0.9967 - val_loss: 0.3437 - val_acc: 0.9967\n",
      "Epoch 42/50\n",
      "938/938 [==============================] - 1s 1ms/step - loss: 0.0049 - acc: 0.9967 - val_loss: 0.3044 - val_acc: 0.9967\n",
      "Epoch 43/50\n",
      "938/938 [==============================] - 1s 1ms/step - loss: 0.0029 - acc: 0.9967 - val_loss: 0.3742 - val_acc: 0.9967\n",
      "Epoch 44/50\n",
      "938/938 [==============================] - 1s 1ms/step - loss: 0.0086 - acc: 0.9967 - val_loss: 0.3499 - val_acc: 0.9967\n",
      "Epoch 45/50\n",
      "938/938 [==============================] - 1s 1ms/step - loss: 0.0034 - acc: 0.9967 - val_loss: 0.4163 - val_acc: 0.9967\n",
      "Epoch 46/50\n",
      "938/938 [==============================] - 1s 1ms/step - loss: 0.0027 - acc: 0.9967 - val_loss: 0.3320 - val_acc: 0.9967\n",
      "Epoch 47/50\n",
      "938/938 [==============================] - 1s 1ms/step - loss: 0.0032 - acc: 0.9967 - val_loss: 0.3273 - val_acc: 0.9967\n",
      "Epoch 48/50\n",
      "938/938 [==============================] - 1s 1ms/step - loss: 0.0042 - acc: 0.9967 - val_loss: 0.3351 - val_acc: 0.9967\n",
      "Epoch 49/50\n",
      "938/938 [==============================] - 1s 1ms/step - loss: 0.0034 - acc: 0.9967 - val_loss: 0.3198 - val_acc: 0.9967\n",
      "Epoch 50/50\n",
      "938/938 [==============================] - 1s 1ms/step - loss: 0.0023 - acc: 0.9967 - val_loss: 0.3592 - val_acc: 0.9967\n"
     ]
    }
   ],
   "source": [
    "val_dataset = tf.data.Dataset.from_tensor_slices((x_test, y_test)).batch(batch_size)\n",
    "history = model.fit(dataset, epochs=50, validation_data=val_dataset)"
   ]
  },
  {
   "cell_type": "code",
   "execution_count": 65,
   "metadata": {},
   "outputs": [
    {
     "name": "stdout",
     "output_type": "stream",
     "text": [
      "dict_keys(['loss', 'acc', 'val_loss', 'val_acc'])\n"
     ]
    }
   ],
   "source": [
    "print(history.history.keys())"
   ]
  },
  {
   "cell_type": "code",
   "execution_count": 66,
   "metadata": {},
   "outputs": [
    {
     "data": {
      "image/png": "[encoded data removed]",
      "text/plain": [
       "<Figure size 432x288 with 1 Axes>"
      ]
     },
     "metadata": {
      "needs_background": "light"
     },
     "output_type": "display_data"
    }
   ],
   "source": [
    "import keras\n",
    "from matplotlib import pyplot as plt\n",
    "plt.plot(history.history['loss'])\n",
    "plt.plot(history.history['val_loss'])\n",
    "plt.title('model loss (val+train)')\n",
    "plt.ylabel('loss')\n",
    "plt.xlabel('epoch')\n",
    "plt.legend(['train', 'val_loss'], loc='upper left')\n",
    "plt.show()"
   ]
  },
  {
   "cell_type": "markdown",
   "metadata": {},
   "source": [
    "```\n",
    "Based on the above plot, looks like we need 4-fold cross validation\n",
    "since the validation set which is the test set, doesnt follow similar trend\n",
    "```"
   ]
  },
  {
   "cell_type": "markdown",
   "metadata": {},
   "source": [
    "### Checkpointing model training\n",
    "```\n",
    "Its important to checkpoint the training to recover from a long training job\n",
    "Also its important in a distributed training scenario, where workers fail\n",
    "\n",
    "Callbacks are a way to make model training entirely scriptable.\n",
    "```"
   ]
  },
  {
   "cell_type": "code",
   "execution_count": 67,
   "metadata": {},
   "outputs": [
    {
     "name": "stdout",
     "output_type": "stream",
     "text": [
      "Epoch 1/2\n",
      "938/938 [==============================] - 1s 1ms/step - loss: 0.0036 - acc: 0.9967\n",
      "INFO:tensorflow:Assets written to: data/checkpoint/assets\n",
      "Epoch 2/2\n",
      "938/938 [==============================] - 1s 1ms/step - loss: 0.0025 - acc: 0.9967\n",
      "INFO:tensorflow:Assets written to: data/checkpoint/assets\n"
     ]
    },
    {
     "data": {
      "text/plain": [
       "<tensorflow.python.keras.callbacks.History at 0x7fb84cc2a370>"
      ]
     },
     "execution_count": 67,
     "metadata": {},
     "output_type": "execute_result"
    }
   ],
   "source": [
    "callbacks = [\n",
    "    keras.callbacks.ModelCheckpoint(\n",
    "        filepath=os.path.join(BASE_DIR,\"checkpoint\"),\n",
    "        save_freq='epoch')\n",
    "]\n",
    "model.fit(dataset, epochs=2, callbacks=callbacks)"
   ]
  },
  {
   "cell_type": "markdown",
   "metadata": {},
   "source": [
    "### Monitoring real-time progress using tensorboard\n",
    "```\n",
    "We will use a callback to capture log and render on a real-time UI\n",
    "for model training updates - callend tensorboard\n",
    "```"
   ]
  },
  {
   "cell_type": "code",
   "execution_count": 74,
   "metadata": {},
   "outputs": [
    {
     "name": "stdout",
     "output_type": "stream",
     "text": [
      "Epoch 1/50\n",
      "938/938 [==============================] - 1s 1ms/step - loss: 0.0060 - acc: 0.9978\n",
      "Epoch 2/50\n",
      "938/938 [==============================] - 1s 1ms/step - loss: 0.0022 - acc: 0.9978\n",
      "Epoch 3/50\n",
      "938/938 [==============================] - 1s 1ms/step - loss: 8.5827e-04 - acc: 0.9978\n",
      "Epoch 4/50\n",
      "938/938 [==============================] - 1s 1ms/step - loss: 0.0020 - acc: 0.9978\n",
      "Epoch 5/50\n",
      "938/938 [==============================] - 1s 1ms/step - loss: 0.0023 - acc: 0.9978\n",
      "Epoch 6/50\n",
      "938/938 [==============================] - 1s 1ms/step - loss: 0.0049 - acc: 0.9978\n",
      "Epoch 7/50\n",
      "938/938 [==============================] - 1s 1ms/step - loss: 7.8186e-04 - acc: 0.9979\n",
      "Epoch 8/50\n",
      "938/938 [==============================] - 1s 1ms/step - loss: 0.0042 - acc: 0.9979\n",
      "Epoch 9/50\n",
      "938/938 [==============================] - 1s 1ms/step - loss: 0.0047 - acc: 0.9979\n",
      "Epoch 10/50\n",
      "938/938 [==============================] - 1s 1ms/step - loss: 0.0043 - acc: 0.9979\n",
      "Epoch 11/50\n",
      "938/938 [==============================] - 1s 1ms/step - loss: 0.0012 - acc: 0.9979\n",
      "Epoch 12/50\n",
      "938/938 [==============================] - 1s 1ms/step - loss: 0.0026 - acc: 0.9979\n",
      "Epoch 13/50\n",
      "938/938 [==============================] - 1s 1ms/step - loss: 0.0040 - acc: 0.9979\n",
      "Epoch 14/50\n",
      "938/938 [==============================] - 1s 1ms/step - loss: 0.0040 - acc: 0.9979\n",
      "Epoch 15/50\n",
      "938/938 [==============================] - 1s 1ms/step - loss: 0.0011 - acc: 0.9979\n",
      "Epoch 16/50\n",
      "938/938 [==============================] - 1s 1ms/step - loss: 0.0028 - acc: 0.9980\n",
      "Epoch 17/50\n",
      "938/938 [==============================] - 1s 1ms/step - loss: 0.0042 - acc: 0.9980\n",
      "Epoch 18/50\n",
      "938/938 [==============================] - 1s 1ms/step - loss: 0.0059 - acc: 0.9980\n",
      "Epoch 19/50\n",
      "938/938 [==============================] - 1s 1ms/step - loss: 0.0011 - acc: 0.9980\n",
      "Epoch 20/50\n",
      "938/938 [==============================] - 1s 1ms/step - loss: 0.0022 - acc: 0.9980\n",
      "Epoch 21/50\n",
      "938/938 [==============================] - 1s 1ms/step - loss: 0.0039 - acc: 0.9980\n",
      "Epoch 22/50\n",
      "938/938 [==============================] - 1s 1ms/step - loss: 0.0058 - acc: 0.9980\n",
      "Epoch 23/50\n",
      "938/938 [==============================] - 1s 1ms/step - loss: 0.0023 - acc: 0.9980\n",
      "Epoch 24/50\n",
      "938/938 [==============================] - 1s 1ms/step - loss: 0.0030 - acc: 0.9980\n",
      "Epoch 25/50\n",
      "938/938 [==============================] - 1s 1ms/step - loss: 0.0015 - acc: 0.9980\n",
      "Epoch 26/50\n",
      "938/938 [==============================] - 1s 1ms/step - loss: 0.0018 - acc: 0.9980\n",
      "Epoch 27/50\n",
      "938/938 [==============================] - 1s 1ms/step - loss: 0.0043 - acc: 0.9980\n",
      "Epoch 28/50\n",
      "938/938 [==============================] - 1s 1ms/step - loss: 0.0030 - acc: 0.9981\n",
      "Epoch 29/50\n",
      "938/938 [==============================] - 1s 1ms/step - loss: 0.0029 - acc: 0.9981\n",
      "Epoch 30/50\n",
      "938/938 [==============================] - 1s 1ms/step - loss: 0.0030 - acc: 0.9981\n",
      "Epoch 31/50\n",
      "938/938 [==============================] - 1s 1ms/step - loss: 5.5096e-04 - acc: 0.9981\n",
      "Epoch 32/50\n",
      "938/938 [==============================] - 1s 1ms/step - loss: 0.0017 - acc: 0.9981\n",
      "Epoch 33/50\n",
      "938/938 [==============================] - 1s 1ms/step - loss: 0.0047 - acc: 0.9981\n",
      "Epoch 34/50\n",
      "938/938 [==============================] - 1s 1ms/step - loss: 0.0056 - acc: 0.9981\n",
      "Epoch 35/50\n",
      "938/938 [==============================] - 1s 1ms/step - loss: 0.0016 - acc: 0.9981\n",
      "Epoch 36/50\n",
      "938/938 [==============================] - 1s 1ms/step - loss: 0.0024 - acc: 0.9982\n",
      "Epoch 37/50\n",
      "938/938 [==============================] - 1s 1ms/step - loss: 0.0024 - acc: 0.9982\n",
      "Epoch 38/50\n",
      "938/938 [==============================] - 1s 1ms/step - loss: 0.0029 - acc: 0.9982\n",
      "Epoch 39/50\n",
      "938/938 [==============================] - 1s 1ms/step - loss: 0.0033 - acc: 0.9982\n",
      "Epoch 40/50\n",
      "938/938 [==============================] - 1s 1ms/step - loss: 0.0013 - acc: 0.9982\n",
      "Epoch 41/50\n",
      "938/938 [==============================] - 1s 1ms/step - loss: 0.0053 - acc: 0.9982\n",
      "Epoch 42/50\n",
      "938/938 [==============================] - 1s 1ms/step - loss: 0.0027 - acc: 0.9982\n",
      "Epoch 43/50\n",
      "938/938 [==============================] - 1s 1ms/step - loss: 0.0040 - acc: 0.9982\n",
      "Epoch 44/50\n",
      "938/938 [==============================] - 1s 1ms/step - loss: 0.0041 - acc: 0.9982\n",
      "Epoch 45/50\n",
      "938/938 [==============================] - 1s 1ms/step - loss: 9.6638e-04 - acc: 0.9982\n",
      "Epoch 46/50\n",
      "938/938 [==============================] - 1s 1ms/step - loss: 0.0018 - acc: 0.9982\n",
      "Epoch 47/50\n",
      "938/938 [==============================] - 1s 1ms/step - loss: 0.0038 - acc: 0.9982\n",
      "Epoch 48/50\n",
      "938/938 [==============================] - 1s 1ms/step - loss: 0.0031 - acc: 0.9982\n",
      "Epoch 49/50\n",
      "938/938 [==============================] - 1s 1ms/step - loss: 0.0027 - acc: 0.9982\n",
      "Epoch 50/50\n",
      "938/938 [==============================] - 1s 1ms/step - loss: 0.0021 - acc: 0.9982\n"
     ]
    },
    {
     "data": {
      "text/plain": [
       "<tensorflow.python.keras.callbacks.History at 0x7fb8691365e0>"
      ]
     },
     "execution_count": 74,
     "metadata": {},
     "output_type": "execute_result"
    }
   ],
   "source": [
    "callbacks = [\n",
    "    keras.callbacks.TensorBoard(log_dir='./logs')\n",
    "]\n",
    "model.fit(dataset, epochs=50, callbacks=callbacks)"
   ]
  },
  {
   "cell_type": "markdown",
   "metadata": {},
   "source": [
    "#### run this on terminal\n",
    "#!tensorboard --logdir=./logs"
   ]
  },
  {
   "cell_type": "markdown",
   "metadata": {},
   "source": [
    "### Evaluating Test Data"
   ]
  },
  {
   "cell_type": "code",
   "execution_count": 75,
   "metadata": {},
   "outputs": [
    {
     "name": "stdout",
     "output_type": "stream",
     "text": [
      "157/157 [==============================] - 0s 793us/step - loss: 0.4749 - acc: 0.9982\n",
      "loss: 0.47\n",
      "acc: 1.00\n"
     ]
    }
   ],
   "source": [
    "loss, acc = model.evaluate(val_dataset)  # returns loss and metrics\n",
    "print(\"loss: %.2f\" % loss)\n",
    "print(\"acc: %.2f\" % acc)"
   ]
  },
  {
   "cell_type": "code",
   "execution_count": 76,
   "metadata": {},
   "outputs": [
    {
     "name": "stdout",
     "output_type": "stream",
     "text": [
      "(10000, 10)\n"
     ]
    }
   ],
   "source": [
    "predictions = model.predict(val_dataset)\n",
    "print(predictions.shape)"
   ]
  },
  {
   "cell_type": "markdown",
   "metadata": {},
   "source": [
    "### Custom Model for training"
   ]
  },
  {
   "cell_type": "code",
   "execution_count": null,
   "metadata": {},
   "outputs": [],
   "source": [
    "class CustomModel(keras.Model):\n",
    "  def train_step(self, data):\n",
    "    # Unpack the data. Its structure depends on your model and\n",
    "    # on what you pass to `fit()`.\n",
    "    x, y = data\n",
    "    with tf.GradientTape() as tape:\n",
    "      y_pred = self(x, training=True)  # Forward pass\n",
    "      # Compute the loss value\n",
    "      # (the loss function is configured in `compile()`)\n",
    "      loss = self.compiled_loss(y, y_pred,\n",
    "                                regularization_losses=self.losses)\n",
    "    # Compute gradients\n",
    "    trainable_vars = self.trainable_variables\n",
    "    gradients = tape.gradient(loss, trainable_vars)\n",
    "    # Update weights\n",
    "    self.optimizer.apply_gradients(zip(gradients, trainable_vars))\n",
    "    # Update metrics (includes the metric that tracks the loss)\n",
    "    self.compiled_metrics.update_state(y, y_pred)\n",
    "    # Return a dict mapping metric names to current value\n",
    "    return {m.name: m.result() for m in self.metrics}\n",
    "\n",
    "# Construct and compile an instance of CustomModel\n",
    "inputs = keras.Input(shape=(32,))\n",
    "outputs = keras.layers.Dense(1)(inputs)\n",
    "model = CustomModel(inputs, outputs)\n",
    "model.compile(optimizer='adam', loss='mse', metrics=['acc'])\n",
    "\n",
    "callbacks = [\n",
    "    keras.callbacks.TensorBoard(log_dir='./logs')\n",
    "]\n",
    "\n",
    "# Just use `fit` as usual\n",
    "model.fit(dataset, epochs=3, callbacks=callbacks)"
   ]
  },
  {
   "cell_type": "markdown",
   "metadata": {},
   "source": [
    "### Debugging your model with eager execution"
   ]
  },
  {
   "cell_type": "markdown",
   "metadata": {},
   "source": [
    "If you write custom training steps or custom layers, you will need to debug them. The debugging experience is an integral part of a framework: with Keras, the debugging workflow is designed with the user in mind.\n",
    "\n",
    "By default, your Keras models are compiled to highly-optimized computation graphs that deliver fast execution times. That means that the Python code you write (e.g. in a custom train_step) is not the code you are actually executing. This introduces a layer of indirection that can make debugging hard.\n",
    "\n",
    "Debugging is best done step by step. You want to be able to sprinkle your code with print() statement to see what your data looks like after every operation, you want to be able to use pdb. You can achieve this by running your model eagerly. With eager execution, the Python code you write is the code that gets executed.\n",
    "\n",
    "Simply pass run_eagerly=True to compile():\n",
    "\n",
    "model.compile(optimizer='adam', loss='mse', run_eagerly=True)\n",
    "Of course, the downside is that it makes your model significantly slower. Make sure to switch it back off to get the benefits of compiled computation graphs once you are done debugging!\n",
    "\n",
    "In general, you will use run_eagerly=True every time you need to debug what's happening inside your fit() call."
   ]
  },
  {
   "cell_type": "markdown",
   "metadata": {},
   "source": [
    "### Asynchronous Pre-processing\n",
    "\n",
    "```\n",
    "Data processing happens in CPU and the GPU is good with feature normalization/data aug.\n",
    "\n",
    "Asynchronous multi-processing is useful to pre-fetch data to be fed to the gpu, while gpu is sill\n",
    "working on previous data, to keep gpu fully utilized\n",
    "\n",
    "In keras, we use dataset.map to achieve this\n",
    "\n",
    "```"
   ]
  },
  {
   "cell_type": "code",
   "execution_count": 78,
   "metadata": {},
   "outputs": [
    {
     "name": "stdout",
     "output_type": "stream",
     "text": [
      "WARNING:tensorflow:\n",
      "The following Variables were used a Lambda layer's call (tf.compat.v1.nn.embedding_lookup), but\n",
      "are not present in its tracked objects:\n",
      "  <tf.Variable 'embedding/embeddings:0' shape=(10, 32) dtype=float32>\n",
      "It is possible that this is intended behavior, but it is more likely\n",
      "an omission. This is a strong indication that this layer should be\n",
      "formulated as a subclassed Layer rather than a Lambda layer.\n",
      "WARNING:tensorflow:\n",
      "The following Variables were used a Lambda layer's call (tf.tensordot), but\n",
      "are not present in its tracked objects:\n",
      "  <tf.Variable 'dense_7/kernel:0' shape=(32, 1) dtype=float32>\n",
      "It is possible that this is intended behavior, but it is more likely\n",
      "an omission. This is a strong indication that this layer should be\n",
      "formulated as a subclassed Layer rather than a Lambda layer.\n",
      "WARNING:tensorflow:\n",
      "The following Variables were used a Lambda layer's call (tf.nn.bias_add), but\n",
      "are not present in its tracked objects:\n",
      "  <tf.Variable 'dense_7/bias:0' shape=(1,) dtype=float32>\n",
      "It is possible that this is intended behavior, but it is more likely\n",
      "an omission. This is a strong indication that this layer should be\n",
      "formulated as a subclassed Layer rather than a Lambda layer.\n",
      "1/1 [==============================] - 0s 13ms/step - loss: 0.4919\n"
     ]
    },
    {
     "data": {
      "text/plain": [
       "<keras.callbacks.History at 0x7fb84cb0bee0>"
      ]
     },
     "execution_count": 78,
     "metadata": {},
     "output_type": "execute_result"
    }
   ],
   "source": [
    "# Example training data, of dtype `string`.\n",
    "samples = np.array([[\"This is the 1st sample.\"], [\"And here's the 2nd sample.\"]])\n",
    "labels = [[0], [1]]\n",
    "\n",
    "# Prepare a TextVectorization layer.\n",
    "vectorizer = TextVectorization(output_mode=\"int\")\n",
    "vectorizer.adapt(samples)\n",
    "\n",
    "# Asynchronous preprocessing: the text vectorization is part of the tf.data pipeline.\n",
    "# First, create a dataset\n",
    "dataset = tf.data.Dataset.from_tensor_slices((samples, labels)).batch(2)\n",
    "# Apply text vectorization to the samples\n",
    "dataset = dataset.map(lambda x, y: (vectorizer(x), y))\n",
    "# Prefetch with a buffer size of 2 batches\n",
    "dataset = dataset.prefetch(2)\n",
    "\n",
    "# Our model should expect sequences of integers as inputs\n",
    "inputs = keras.Input(shape=(None,), dtype=\"int64\")\n",
    "x = layers.Embedding(input_dim=10, output_dim=32)(inputs)\n",
    "outputs = layers.Dense(1)(x)\n",
    "model = keras.Model(inputs, outputs)\n",
    "\n",
    "model.compile(optimizer=\"adam\", loss=\"mse\", run_eagerly=True)\n",
    "model.fit(dataset)"
   ]
  },
  {
   "cell_type": "markdown",
   "metadata": {},
   "source": [
    "### Hyperparameter Tuning - using Keras Tuner\n",
    "```\n",
    "First, place your model definition in a function, that takes a single hp argument.\n",
    "\n",
    "Inside this function, replace any value you want to tune with a call to hyperparameter sampling methods, e.g. hp.Int() or hp.Choice():\n",
    "```"
   ]
  },
  {
   "cell_type": "code",
   "execution_count": 84,
   "metadata": {},
   "outputs": [],
   "source": [
    "def build_model(hp):\n",
    "    inputs = keras.Input(shape=(784,))\n",
    "    x = layers.Dense(\n",
    "        units=hp.Int('units', min_value=32, max_value=512, step=32),\n",
    "        activation='relu')(inputs)\n",
    "    outputs = layers.Dense(10, activation='softmax')(x)\n",
    "    model = keras.Model(inputs, outputs)\n",
    "    model.compile(\n",
    "        optimizer=keras.optimizers.Adam(\n",
    "            hp.Choice('learning_rate',\n",
    "                      values=[1e-2, 1e-3, 1e-4])),\n",
    "        loss='sparse_categorical_crossentropy',\n",
    "        metrics=['accuracy'])\n",
    "    return model"
   ]
  },
  {
   "cell_type": "markdown",
   "metadata": {},
   "source": [
    "The function should return a compiled model.\n",
    "\n",
    "Next, instantiate a tuner object specifying your optimization objective and other search parameters:"
   ]
  },
  {
   "cell_type": "code",
   "execution_count": 87,
   "metadata": {},
   "outputs": [
    {
     "ename": "TypeError",
     "evalue": "Cannot convert a symbolic Keras input/output to a numpy array. This error may indicate that you're trying to pass a symbolic value to a NumPy call, which is not supported. Or, you may be trying to pass Keras symbolic inputs/outputs to a TF API that does not register dispatching, preventing Keras from automatically converting the API call to a lambda layer in the Functional Model.",
     "output_type": "error",
     "traceback": [
      "\u001b[0;31m---------------------------------------------------------------------------\u001b[0m",
      "\u001b[0;31mTypeError\u001b[0m                                 Traceback (most recent call last)",
      "\u001b[0;32m<ipython-input-87-7837513eff37>\u001b[0m in \u001b[0;36m<module>\u001b[0;34m\u001b[0m\n\u001b[1;32m      1\u001b[0m \u001b[0;32mimport\u001b[0m \u001b[0mkeras_tuner\u001b[0m\u001b[0;34m\u001b[0m\u001b[0;34m\u001b[0m\u001b[0m\n\u001b[1;32m      2\u001b[0m \u001b[0;34m\u001b[0m\u001b[0m\n\u001b[0;32m----> 3\u001b[0;31m tuner = keras_tuner.tuners.Hyperband(\n\u001b[0m\u001b[1;32m      4\u001b[0m   \u001b[0mbuild_model\u001b[0m\u001b[0;34m,\u001b[0m\u001b[0;34m\u001b[0m\u001b[0;34m\u001b[0m\u001b[0m\n\u001b[1;32m      5\u001b[0m   \u001b[0mobjective\u001b[0m\u001b[0;34m=\u001b[0m\u001b[0;34m'val_loss'\u001b[0m\u001b[0;34m,\u001b[0m\u001b[0;34m\u001b[0m\u001b[0;34m\u001b[0m\u001b[0m\n",
      "\u001b[0;32m~/opt/miniconda3/envs/omni/lib/python3.8/site-packages/keras_tuner/tuners/hyperband.py\u001b[0m in \u001b[0;36m__init__\u001b[0;34m(self, hypermodel, objective, max_epochs, factor, hyperband_iterations, seed, hyperparameters, tune_new_entries, allow_new_entries, **kwargs)\u001b[0m\n\u001b[1;32m    365\u001b[0m             \u001b[0mallow_new_entries\u001b[0m\u001b[0;34m=\u001b[0m\u001b[0mallow_new_entries\u001b[0m\u001b[0;34m,\u001b[0m\u001b[0;34m\u001b[0m\u001b[0;34m\u001b[0m\u001b[0m\n\u001b[1;32m    366\u001b[0m         )\n\u001b[0;32m--> 367\u001b[0;31m         super(Hyperband, self).__init__(\n\u001b[0m\u001b[1;32m    368\u001b[0m             \u001b[0moracle\u001b[0m\u001b[0;34m=\u001b[0m\u001b[0moracle\u001b[0m\u001b[0;34m,\u001b[0m \u001b[0mhypermodel\u001b[0m\u001b[0;34m=\u001b[0m\u001b[0mhypermodel\u001b[0m\u001b[0;34m,\u001b[0m \u001b[0;34m**\u001b[0m\u001b[0mkwargs\u001b[0m\u001b[0;34m\u001b[0m\u001b[0;34m\u001b[0m\u001b[0m\n\u001b[1;32m    369\u001b[0m         )\n",
      "\u001b[0;32m~/opt/miniconda3/envs/omni/lib/python3.8/site-packages/keras_tuner/engine/tuner.py\u001b[0m in \u001b[0;36m__init__\u001b[0;34m(self, oracle, hypermodel, max_model_size, optimizer, loss, metrics, distribution_strategy, directory, project_name, logger, tuner_id, overwrite, executions_per_trial)\u001b[0m\n\u001b[1;32m    109\u001b[0m             )\n\u001b[1;32m    110\u001b[0m \u001b[0;34m\u001b[0m\u001b[0m\n\u001b[0;32m--> 111\u001b[0;31m         super(Tuner, self).__init__(\n\u001b[0m\u001b[1;32m    112\u001b[0m             \u001b[0moracle\u001b[0m\u001b[0;34m=\u001b[0m\u001b[0moracle\u001b[0m\u001b[0;34m,\u001b[0m\u001b[0;34m\u001b[0m\u001b[0;34m\u001b[0m\u001b[0m\n\u001b[1;32m    113\u001b[0m             \u001b[0mhypermodel\u001b[0m\u001b[0;34m=\u001b[0m\u001b[0mhypermodel\u001b[0m\u001b[0;34m,\u001b[0m\u001b[0;34m\u001b[0m\u001b[0;34m\u001b[0m\u001b[0m\n",
      "\u001b[0;32m~/opt/miniconda3/envs/omni/lib/python3.8/site-packages/keras_tuner/engine/base_tuner.py\u001b[0m in \u001b[0;36m__init__\u001b[0;34m(self, oracle, hypermodel, directory, project_name, logger, overwrite)\u001b[0m\n\u001b[1;32m    101\u001b[0m         \u001b[0mself\u001b[0m\u001b[0;34m.\u001b[0m\u001b[0m_display\u001b[0m \u001b[0;34m=\u001b[0m \u001b[0mtuner_utils\u001b[0m\u001b[0;34m.\u001b[0m\u001b[0mDisplay\u001b[0m\u001b[0;34m(\u001b[0m\u001b[0moracle\u001b[0m\u001b[0;34m=\u001b[0m\u001b[0mself\u001b[0m\u001b[0;34m.\u001b[0m\u001b[0moracle\u001b[0m\u001b[0;34m)\u001b[0m\u001b[0;34m\u001b[0m\u001b[0;34m\u001b[0m\u001b[0m\n\u001b[1;32m    102\u001b[0m \u001b[0;34m\u001b[0m\u001b[0m\n\u001b[0;32m--> 103\u001b[0;31m         \u001b[0mself\u001b[0m\u001b[0;34m.\u001b[0m\u001b[0m_populate_initial_space\u001b[0m\u001b[0;34m(\u001b[0m\u001b[0;34m)\u001b[0m\u001b[0;34m\u001b[0m\u001b[0;34m\u001b[0m\u001b[0m\n\u001b[0m\u001b[1;32m    104\u001b[0m \u001b[0;34m\u001b[0m\u001b[0m\n\u001b[1;32m    105\u001b[0m         \u001b[0;32mif\u001b[0m \u001b[0;32mnot\u001b[0m \u001b[0moverwrite\u001b[0m \u001b[0;32mand\u001b[0m \u001b[0mtf\u001b[0m\u001b[0;34m.\u001b[0m\u001b[0mio\u001b[0m\u001b[0;34m.\u001b[0m\u001b[0mgfile\u001b[0m\u001b[0;34m.\u001b[0m\u001b[0mexists\u001b[0m\u001b[0;34m(\u001b[0m\u001b[0mself\u001b[0m\u001b[0;34m.\u001b[0m\u001b[0m_get_tuner_fname\u001b[0m\u001b[0;34m(\u001b[0m\u001b[0;34m)\u001b[0m\u001b[0;34m)\u001b[0m\u001b[0;34m:\u001b[0m\u001b[0;34m\u001b[0m\u001b[0;34m\u001b[0m\u001b[0m\n",
      "\u001b[0;32m~/opt/miniconda3/envs/omni/lib/python3.8/site-packages/keras_tuner/engine/base_tuner.py\u001b[0m in \u001b[0;36m_populate_initial_space\u001b[0;34m(self)\u001b[0m\n\u001b[1;32m    130\u001b[0m \u001b[0;34m\u001b[0m\u001b[0m\n\u001b[1;32m    131\u001b[0m         \u001b[0;32mwhile\u001b[0m \u001b[0;32mTrue\u001b[0m\u001b[0;34m:\u001b[0m\u001b[0;34m\u001b[0m\u001b[0;34m\u001b[0m\u001b[0m\n\u001b[0;32m--> 132\u001b[0;31m             \u001b[0mself\u001b[0m\u001b[0;34m.\u001b[0m\u001b[0mhypermodel\u001b[0m\u001b[0;34m.\u001b[0m\u001b[0mbuild\u001b[0m\u001b[0;34m(\u001b[0m\u001b[0mhp\u001b[0m\u001b[0;34m)\u001b[0m\u001b[0;34m\u001b[0m\u001b[0;34m\u001b[0m\u001b[0m\n\u001b[0m\u001b[1;32m    133\u001b[0m \u001b[0;34m\u001b[0m\u001b[0m\n\u001b[1;32m    134\u001b[0m             \u001b[0;31m# Update the recored scopes.\u001b[0m\u001b[0;34m\u001b[0m\u001b[0;34m\u001b[0m\u001b[0;34m\u001b[0m\u001b[0m\n",
      "\u001b[0;32m<ipython-input-84-7178787165c9>\u001b[0m in \u001b[0;36mbuild_model\u001b[0;34m(hp)\u001b[0m\n\u001b[1;32m      1\u001b[0m \u001b[0;32mdef\u001b[0m \u001b[0mbuild_model\u001b[0m\u001b[0;34m(\u001b[0m\u001b[0mhp\u001b[0m\u001b[0;34m)\u001b[0m\u001b[0;34m:\u001b[0m\u001b[0;34m\u001b[0m\u001b[0;34m\u001b[0m\u001b[0m\n\u001b[1;32m      2\u001b[0m     \u001b[0minputs\u001b[0m \u001b[0;34m=\u001b[0m \u001b[0mkeras\u001b[0m\u001b[0;34m.\u001b[0m\u001b[0mInput\u001b[0m\u001b[0;34m(\u001b[0m\u001b[0mshape\u001b[0m\u001b[0;34m=\u001b[0m\u001b[0;34m(\u001b[0m\u001b[0;36m784\u001b[0m\u001b[0;34m,\u001b[0m\u001b[0;34m)\u001b[0m\u001b[0;34m)\u001b[0m\u001b[0;34m\u001b[0m\u001b[0;34m\u001b[0m\u001b[0m\n\u001b[0;32m----> 3\u001b[0;31m     x = layers.Dense(\n\u001b[0m\u001b[1;32m      4\u001b[0m         \u001b[0munits\u001b[0m\u001b[0;34m=\u001b[0m\u001b[0mhp\u001b[0m\u001b[0;34m.\u001b[0m\u001b[0mInt\u001b[0m\u001b[0;34m(\u001b[0m\u001b[0;34m'units'\u001b[0m\u001b[0;34m,\u001b[0m \u001b[0mmin_value\u001b[0m\u001b[0;34m=\u001b[0m\u001b[0;36m32\u001b[0m\u001b[0;34m,\u001b[0m \u001b[0mmax_value\u001b[0m\u001b[0;34m=\u001b[0m\u001b[0;36m512\u001b[0m\u001b[0;34m,\u001b[0m \u001b[0mstep\u001b[0m\u001b[0;34m=\u001b[0m\u001b[0;36m32\u001b[0m\u001b[0;34m)\u001b[0m\u001b[0;34m,\u001b[0m\u001b[0;34m\u001b[0m\u001b[0;34m\u001b[0m\u001b[0m\n\u001b[1;32m      5\u001b[0m         activation='relu')(inputs)\n",
      "\u001b[0;32m~/opt/miniconda3/envs/omni/lib/python3.8/site-packages/tensorflow/python/keras/engine/base_layer.py\u001b[0m in \u001b[0;36m__call__\u001b[0;34m(self, *args, **kwargs)\u001b[0m\n\u001b[1;32m   1028\u001b[0m         with autocast_variable.enable_auto_cast_variables(\n\u001b[1;32m   1029\u001b[0m             self._compute_dtype_object):\n\u001b[0;32m-> 1030\u001b[0;31m           \u001b[0moutputs\u001b[0m \u001b[0;34m=\u001b[0m \u001b[0mcall_fn\u001b[0m\u001b[0;34m(\u001b[0m\u001b[0minputs\u001b[0m\u001b[0;34m,\u001b[0m \u001b[0;34m*\u001b[0m\u001b[0margs\u001b[0m\u001b[0;34m,\u001b[0m \u001b[0;34m**\u001b[0m\u001b[0mkwargs\u001b[0m\u001b[0;34m)\u001b[0m\u001b[0;34m\u001b[0m\u001b[0;34m\u001b[0m\u001b[0m\n\u001b[0m\u001b[1;32m   1031\u001b[0m \u001b[0;34m\u001b[0m\u001b[0m\n\u001b[1;32m   1032\u001b[0m         \u001b[0;32mif\u001b[0m \u001b[0mself\u001b[0m\u001b[0;34m.\u001b[0m\u001b[0m_activity_regularizer\u001b[0m\u001b[0;34m:\u001b[0m\u001b[0;34m\u001b[0m\u001b[0;34m\u001b[0m\u001b[0m\n",
      "\u001b[0;32m~/opt/miniconda3/envs/omni/lib/python3.8/site-packages/tensorflow/python/keras/layers/core.py\u001b[0m in \u001b[0;36mcall\u001b[0;34m(self, inputs)\u001b[0m\n\u001b[1;32m   1240\u001b[0m             self.kernel, ids, weights, combiner='sum')\n\u001b[1;32m   1241\u001b[0m       \u001b[0;32melse\u001b[0m\u001b[0;34m:\u001b[0m\u001b[0;34m\u001b[0m\u001b[0;34m\u001b[0m\u001b[0m\n\u001b[0;32m-> 1242\u001b[0;31m         \u001b[0moutputs\u001b[0m \u001b[0;34m=\u001b[0m \u001b[0mgen_math_ops\u001b[0m\u001b[0;34m.\u001b[0m\u001b[0mMatMul\u001b[0m\u001b[0;34m(\u001b[0m\u001b[0ma\u001b[0m\u001b[0;34m=\u001b[0m\u001b[0minputs\u001b[0m\u001b[0;34m,\u001b[0m \u001b[0mb\u001b[0m\u001b[0;34m=\u001b[0m\u001b[0mself\u001b[0m\u001b[0;34m.\u001b[0m\u001b[0mkernel\u001b[0m\u001b[0;34m)\u001b[0m\u001b[0;34m\u001b[0m\u001b[0;34m\u001b[0m\u001b[0m\n\u001b[0m\u001b[1;32m   1243\u001b[0m     \u001b[0;31m# Broadcast kernel to inputs.\u001b[0m\u001b[0;34m\u001b[0m\u001b[0;34m\u001b[0m\u001b[0;34m\u001b[0m\u001b[0m\n\u001b[1;32m   1244\u001b[0m     \u001b[0;32melse\u001b[0m\u001b[0;34m:\u001b[0m\u001b[0;34m\u001b[0m\u001b[0;34m\u001b[0m\u001b[0m\n",
      "\u001b[0;32m~/opt/miniconda3/envs/omni/lib/python3.8/site-packages/tensorflow/python/util/tf_export.py\u001b[0m in \u001b[0;36mwrapper\u001b[0;34m(*args, **kwargs)\u001b[0m\n\u001b[1;32m    402\u001b[0m           \u001b[0;34m'Please pass these args as kwargs instead.'\u001b[0m\u001b[0;34m\u001b[0m\u001b[0;34m\u001b[0m\u001b[0m\n\u001b[1;32m    403\u001b[0m           .format(f=f.__name__, kwargs=f_argspec.args))\n\u001b[0;32m--> 404\u001b[0;31m     \u001b[0;32mreturn\u001b[0m \u001b[0mf\u001b[0m\u001b[0;34m(\u001b[0m\u001b[0;34m**\u001b[0m\u001b[0mkwargs\u001b[0m\u001b[0;34m)\u001b[0m\u001b[0;34m\u001b[0m\u001b[0;34m\u001b[0m\u001b[0m\n\u001b[0m\u001b[1;32m    405\u001b[0m \u001b[0;34m\u001b[0m\u001b[0m\n\u001b[1;32m    406\u001b[0m   \u001b[0;32mreturn\u001b[0m \u001b[0mtf_decorator\u001b[0m\u001b[0;34m.\u001b[0m\u001b[0mmake_decorator\u001b[0m\u001b[0;34m(\u001b[0m\u001b[0mf\u001b[0m\u001b[0;34m,\u001b[0m \u001b[0mwrapper\u001b[0m\u001b[0;34m,\u001b[0m \u001b[0mdecorator_argspec\u001b[0m\u001b[0;34m=\u001b[0m\u001b[0mf_argspec\u001b[0m\u001b[0;34m)\u001b[0m\u001b[0;34m\u001b[0m\u001b[0;34m\u001b[0m\u001b[0m\n",
      "\u001b[0;32m~/opt/miniconda3/envs/omni/lib/python3.8/site-packages/tensorflow/python/ops/gen_math_ops.py\u001b[0m in \u001b[0;36mmat_mul\u001b[0;34m(a, b, transpose_a, transpose_b, name)\u001b[0m\n\u001b[1;32m   5702\u001b[0m       \u001b[0;32mpass\u001b[0m\u001b[0;34m\u001b[0m\u001b[0;34m\u001b[0m\u001b[0m\n\u001b[1;32m   5703\u001b[0m     \u001b[0;32mtry\u001b[0m\u001b[0;34m:\u001b[0m\u001b[0;34m\u001b[0m\u001b[0;34m\u001b[0m\u001b[0m\n\u001b[0;32m-> 5704\u001b[0;31m       return mat_mul_eager_fallback(\n\u001b[0m\u001b[1;32m   5705\u001b[0m           \u001b[0ma\u001b[0m\u001b[0;34m,\u001b[0m \u001b[0mb\u001b[0m\u001b[0;34m,\u001b[0m \u001b[0mtranspose_a\u001b[0m\u001b[0;34m=\u001b[0m\u001b[0mtranspose_a\u001b[0m\u001b[0;34m,\u001b[0m \u001b[0mtranspose_b\u001b[0m\u001b[0;34m=\u001b[0m\u001b[0mtranspose_b\u001b[0m\u001b[0;34m,\u001b[0m \u001b[0mname\u001b[0m\u001b[0;34m=\u001b[0m\u001b[0mname\u001b[0m\u001b[0;34m,\u001b[0m\u001b[0;34m\u001b[0m\u001b[0;34m\u001b[0m\u001b[0m\n\u001b[1;32m   5706\u001b[0m           ctx=_ctx)\n",
      "\u001b[0;32m~/opt/miniconda3/envs/omni/lib/python3.8/site-packages/tensorflow/python/ops/gen_math_ops.py\u001b[0m in \u001b[0;36mmat_mul_eager_fallback\u001b[0;34m(a, b, transpose_a, transpose_b, name, ctx)\u001b[0m\n\u001b[1;32m   5737\u001b[0m     \u001b[0mtranspose_b\u001b[0m \u001b[0;34m=\u001b[0m \u001b[0;32mFalse\u001b[0m\u001b[0;34m\u001b[0m\u001b[0;34m\u001b[0m\u001b[0m\n\u001b[1;32m   5738\u001b[0m   \u001b[0mtranspose_b\u001b[0m \u001b[0;34m=\u001b[0m \u001b[0m_execute\u001b[0m\u001b[0;34m.\u001b[0m\u001b[0mmake_bool\u001b[0m\u001b[0;34m(\u001b[0m\u001b[0mtranspose_b\u001b[0m\u001b[0;34m,\u001b[0m \u001b[0;34m\"transpose_b\"\u001b[0m\u001b[0;34m)\u001b[0m\u001b[0;34m\u001b[0m\u001b[0;34m\u001b[0m\u001b[0m\n\u001b[0;32m-> 5739\u001b[0;31m   \u001b[0m_attr_T\u001b[0m\u001b[0;34m,\u001b[0m \u001b[0m_inputs_T\u001b[0m \u001b[0;34m=\u001b[0m \u001b[0m_execute\u001b[0m\u001b[0;34m.\u001b[0m\u001b[0margs_to_matching_eager\u001b[0m\u001b[0;34m(\u001b[0m\u001b[0;34m[\u001b[0m\u001b[0ma\u001b[0m\u001b[0;34m,\u001b[0m \u001b[0mb\u001b[0m\u001b[0;34m]\u001b[0m\u001b[0;34m,\u001b[0m \u001b[0mctx\u001b[0m\u001b[0;34m,\u001b[0m \u001b[0;34m[\u001b[0m\u001b[0m_dtypes\u001b[0m\u001b[0;34m.\u001b[0m\u001b[0mbfloat16\u001b[0m\u001b[0;34m,\u001b[0m \u001b[0m_dtypes\u001b[0m\u001b[0;34m.\u001b[0m\u001b[0mhalf\u001b[0m\u001b[0;34m,\u001b[0m \u001b[0m_dtypes\u001b[0m\u001b[0;34m.\u001b[0m\u001b[0mfloat32\u001b[0m\u001b[0;34m,\u001b[0m \u001b[0m_dtypes\u001b[0m\u001b[0;34m.\u001b[0m\u001b[0mfloat64\u001b[0m\u001b[0;34m,\u001b[0m \u001b[0m_dtypes\u001b[0m\u001b[0;34m.\u001b[0m\u001b[0mint32\u001b[0m\u001b[0;34m,\u001b[0m \u001b[0m_dtypes\u001b[0m\u001b[0;34m.\u001b[0m\u001b[0mint64\u001b[0m\u001b[0;34m,\u001b[0m \u001b[0m_dtypes\u001b[0m\u001b[0;34m.\u001b[0m\u001b[0mcomplex64\u001b[0m\u001b[0;34m,\u001b[0m \u001b[0m_dtypes\u001b[0m\u001b[0;34m.\u001b[0m\u001b[0mcomplex128\u001b[0m\u001b[0;34m,\u001b[0m \u001b[0;34m]\u001b[0m\u001b[0;34m)\u001b[0m\u001b[0;34m\u001b[0m\u001b[0;34m\u001b[0m\u001b[0m\n\u001b[0m\u001b[1;32m   5740\u001b[0m   \u001b[0;34m(\u001b[0m\u001b[0ma\u001b[0m\u001b[0;34m,\u001b[0m \u001b[0mb\u001b[0m\u001b[0;34m)\u001b[0m \u001b[0;34m=\u001b[0m \u001b[0m_inputs_T\u001b[0m\u001b[0;34m\u001b[0m\u001b[0;34m\u001b[0m\u001b[0m\n\u001b[1;32m   5741\u001b[0m   \u001b[0m_inputs_flat\u001b[0m \u001b[0;34m=\u001b[0m \u001b[0;34m[\u001b[0m\u001b[0ma\u001b[0m\u001b[0;34m,\u001b[0m \u001b[0mb\u001b[0m\u001b[0;34m]\u001b[0m\u001b[0;34m\u001b[0m\u001b[0;34m\u001b[0m\u001b[0m\n",
      "\u001b[0;32m~/opt/miniconda3/envs/omni/lib/python3.8/site-packages/tensorflow/python/eager/execute.py\u001b[0m in \u001b[0;36margs_to_matching_eager\u001b[0;34m(l, ctx, allowed_dtypes, default_dtype)\u001b[0m\n\u001b[1;32m    263\u001b[0m       \u001b[0;31m# not list allowed dtypes, in which case we should skip this.\u001b[0m\u001b[0;34m\u001b[0m\u001b[0;34m\u001b[0m\u001b[0;34m\u001b[0m\u001b[0m\n\u001b[1;32m    264\u001b[0m       \u001b[0;32mif\u001b[0m \u001b[0mdtype\u001b[0m \u001b[0;32mis\u001b[0m \u001b[0;32mNone\u001b[0m \u001b[0;32mand\u001b[0m \u001b[0mallowed_dtypes\u001b[0m\u001b[0;34m:\u001b[0m\u001b[0;34m\u001b[0m\u001b[0;34m\u001b[0m\u001b[0m\n\u001b[0;32m--> 265\u001b[0;31m         \u001b[0mtensor\u001b[0m \u001b[0;34m=\u001b[0m \u001b[0mops\u001b[0m\u001b[0;34m.\u001b[0m\u001b[0mconvert_to_tensor\u001b[0m\u001b[0;34m(\u001b[0m\u001b[0mt\u001b[0m\u001b[0;34m,\u001b[0m \u001b[0mctx\u001b[0m\u001b[0;34m=\u001b[0m\u001b[0mctx\u001b[0m\u001b[0;34m)\u001b[0m\u001b[0;34m\u001b[0m\u001b[0;34m\u001b[0m\u001b[0m\n\u001b[0m\u001b[1;32m    266\u001b[0m         \u001b[0;31m# If we did not match an allowed dtype, try again with the default\u001b[0m\u001b[0;34m\u001b[0m\u001b[0;34m\u001b[0m\u001b[0;34m\u001b[0m\u001b[0m\n\u001b[1;32m    267\u001b[0m         \u001b[0;31m# dtype. This could be because we have an empty tensor and thus we\u001b[0m\u001b[0;34m\u001b[0m\u001b[0;34m\u001b[0m\u001b[0;34m\u001b[0m\u001b[0m\n",
      "\u001b[0;32m~/opt/miniconda3/envs/omni/lib/python3.8/site-packages/tensorflow/python/profiler/trace.py\u001b[0m in \u001b[0;36mwrapped\u001b[0;34m(*args, **kwargs)\u001b[0m\n\u001b[1;32m    161\u001b[0m         \u001b[0;32mwith\u001b[0m \u001b[0mTrace\u001b[0m\u001b[0;34m(\u001b[0m\u001b[0mtrace_name\u001b[0m\u001b[0;34m,\u001b[0m \u001b[0;34m**\u001b[0m\u001b[0mtrace_kwargs\u001b[0m\u001b[0;34m)\u001b[0m\u001b[0;34m:\u001b[0m\u001b[0;34m\u001b[0m\u001b[0;34m\u001b[0m\u001b[0m\n\u001b[1;32m    162\u001b[0m           \u001b[0;32mreturn\u001b[0m \u001b[0mfunc\u001b[0m\u001b[0;34m(\u001b[0m\u001b[0;34m*\u001b[0m\u001b[0margs\u001b[0m\u001b[0;34m,\u001b[0m \u001b[0;34m**\u001b[0m\u001b[0mkwargs\u001b[0m\u001b[0;34m)\u001b[0m\u001b[0;34m\u001b[0m\u001b[0;34m\u001b[0m\u001b[0m\n\u001b[0;32m--> 163\u001b[0;31m       \u001b[0;32mreturn\u001b[0m \u001b[0mfunc\u001b[0m\u001b[0;34m(\u001b[0m\u001b[0;34m*\u001b[0m\u001b[0margs\u001b[0m\u001b[0;34m,\u001b[0m \u001b[0;34m**\u001b[0m\u001b[0mkwargs\u001b[0m\u001b[0;34m)\u001b[0m\u001b[0;34m\u001b[0m\u001b[0;34m\u001b[0m\u001b[0m\n\u001b[0m\u001b[1;32m    164\u001b[0m \u001b[0;34m\u001b[0m\u001b[0m\n\u001b[1;32m    165\u001b[0m     \u001b[0;32mreturn\u001b[0m \u001b[0mwrapped\u001b[0m\u001b[0;34m\u001b[0m\u001b[0;34m\u001b[0m\u001b[0m\n",
      "\u001b[0;32m~/opt/miniconda3/envs/omni/lib/python3.8/site-packages/tensorflow/python/framework/ops.py\u001b[0m in \u001b[0;36mconvert_to_tensor\u001b[0;34m(value, dtype, name, as_ref, preferred_dtype, dtype_hint, ctx, accepted_result_types)\u001b[0m\n\u001b[1;32m   1564\u001b[0m \u001b[0;34m\u001b[0m\u001b[0m\n\u001b[1;32m   1565\u001b[0m     \u001b[0;32mif\u001b[0m \u001b[0mret\u001b[0m \u001b[0;32mis\u001b[0m \u001b[0;32mNone\u001b[0m\u001b[0;34m:\u001b[0m\u001b[0;34m\u001b[0m\u001b[0;34m\u001b[0m\u001b[0m\n\u001b[0;32m-> 1566\u001b[0;31m       \u001b[0mret\u001b[0m \u001b[0;34m=\u001b[0m \u001b[0mconversion_func\u001b[0m\u001b[0;34m(\u001b[0m\u001b[0mvalue\u001b[0m\u001b[0;34m,\u001b[0m \u001b[0mdtype\u001b[0m\u001b[0;34m=\u001b[0m\u001b[0mdtype\u001b[0m\u001b[0;34m,\u001b[0m \u001b[0mname\u001b[0m\u001b[0;34m=\u001b[0m\u001b[0mname\u001b[0m\u001b[0;34m,\u001b[0m \u001b[0mas_ref\u001b[0m\u001b[0;34m=\u001b[0m\u001b[0mas_ref\u001b[0m\u001b[0;34m)\u001b[0m\u001b[0;34m\u001b[0m\u001b[0;34m\u001b[0m\u001b[0m\n\u001b[0m\u001b[1;32m   1567\u001b[0m \u001b[0;34m\u001b[0m\u001b[0m\n\u001b[1;32m   1568\u001b[0m     \u001b[0;32mif\u001b[0m \u001b[0mret\u001b[0m \u001b[0;32mis\u001b[0m \u001b[0mNotImplemented\u001b[0m\u001b[0;34m:\u001b[0m\u001b[0;34m\u001b[0m\u001b[0;34m\u001b[0m\u001b[0m\n",
      "\u001b[0;32m~/opt/miniconda3/envs/omni/lib/python3.8/site-packages/tensorflow/python/framework/constant_op.py\u001b[0m in \u001b[0;36m_constant_tensor_conversion_function\u001b[0;34m(v, dtype, name, as_ref)\u001b[0m\n\u001b[1;32m    337\u001b[0m                                          as_ref=False):\n\u001b[1;32m    338\u001b[0m   \u001b[0m_\u001b[0m \u001b[0;34m=\u001b[0m \u001b[0mas_ref\u001b[0m\u001b[0;34m\u001b[0m\u001b[0;34m\u001b[0m\u001b[0m\n\u001b[0;32m--> 339\u001b[0;31m   \u001b[0;32mreturn\u001b[0m \u001b[0mconstant\u001b[0m\u001b[0;34m(\u001b[0m\u001b[0mv\u001b[0m\u001b[0;34m,\u001b[0m \u001b[0mdtype\u001b[0m\u001b[0;34m=\u001b[0m\u001b[0mdtype\u001b[0m\u001b[0;34m,\u001b[0m \u001b[0mname\u001b[0m\u001b[0;34m=\u001b[0m\u001b[0mname\u001b[0m\u001b[0;34m)\u001b[0m\u001b[0;34m\u001b[0m\u001b[0;34m\u001b[0m\u001b[0m\n\u001b[0m\u001b[1;32m    340\u001b[0m \u001b[0;34m\u001b[0m\u001b[0m\n\u001b[1;32m    341\u001b[0m \u001b[0;34m\u001b[0m\u001b[0m\n",
      "\u001b[0;32m~/opt/miniconda3/envs/omni/lib/python3.8/site-packages/tensorflow/python/framework/constant_op.py\u001b[0m in \u001b[0;36mconstant\u001b[0;34m(value, dtype, shape, name)\u001b[0m\n\u001b[1;32m    262\u001b[0m     \u001b[0mValueError\u001b[0m\u001b[0;34m:\u001b[0m \u001b[0;32mif\u001b[0m \u001b[0mcalled\u001b[0m \u001b[0mon\u001b[0m \u001b[0ma\u001b[0m \u001b[0msymbolic\u001b[0m \u001b[0mtensor\u001b[0m\u001b[0;34m.\u001b[0m\u001b[0;34m\u001b[0m\u001b[0;34m\u001b[0m\u001b[0m\n\u001b[1;32m    263\u001b[0m   \"\"\"\n\u001b[0;32m--> 264\u001b[0;31m   return _constant_impl(value, dtype, shape, name, verify_shape=False,\n\u001b[0m\u001b[1;32m    265\u001b[0m                         allow_broadcast=True)\n\u001b[1;32m    266\u001b[0m \u001b[0;34m\u001b[0m\u001b[0m\n",
      "\u001b[0;32m~/opt/miniconda3/envs/omni/lib/python3.8/site-packages/tensorflow/python/framework/constant_op.py\u001b[0m in \u001b[0;36m_constant_impl\u001b[0;34m(value, dtype, shape, name, verify_shape, allow_broadcast)\u001b[0m\n\u001b[1;32m    274\u001b[0m       \u001b[0;32mwith\u001b[0m \u001b[0mtrace\u001b[0m\u001b[0;34m.\u001b[0m\u001b[0mTrace\u001b[0m\u001b[0;34m(\u001b[0m\u001b[0;34m\"tf.constant\"\u001b[0m\u001b[0;34m)\u001b[0m\u001b[0;34m:\u001b[0m\u001b[0;34m\u001b[0m\u001b[0;34m\u001b[0m\u001b[0m\n\u001b[1;32m    275\u001b[0m         \u001b[0;32mreturn\u001b[0m \u001b[0m_constant_eager_impl\u001b[0m\u001b[0;34m(\u001b[0m\u001b[0mctx\u001b[0m\u001b[0;34m,\u001b[0m \u001b[0mvalue\u001b[0m\u001b[0;34m,\u001b[0m \u001b[0mdtype\u001b[0m\u001b[0;34m,\u001b[0m \u001b[0mshape\u001b[0m\u001b[0;34m,\u001b[0m \u001b[0mverify_shape\u001b[0m\u001b[0;34m)\u001b[0m\u001b[0;34m\u001b[0m\u001b[0;34m\u001b[0m\u001b[0m\n\u001b[0;32m--> 276\u001b[0;31m     \u001b[0;32mreturn\u001b[0m \u001b[0m_constant_eager_impl\u001b[0m\u001b[0;34m(\u001b[0m\u001b[0mctx\u001b[0m\u001b[0;34m,\u001b[0m \u001b[0mvalue\u001b[0m\u001b[0;34m,\u001b[0m \u001b[0mdtype\u001b[0m\u001b[0;34m,\u001b[0m \u001b[0mshape\u001b[0m\u001b[0;34m,\u001b[0m \u001b[0mverify_shape\u001b[0m\u001b[0;34m)\u001b[0m\u001b[0;34m\u001b[0m\u001b[0;34m\u001b[0m\u001b[0m\n\u001b[0m\u001b[1;32m    277\u001b[0m \u001b[0;34m\u001b[0m\u001b[0m\n\u001b[1;32m    278\u001b[0m   \u001b[0mg\u001b[0m \u001b[0;34m=\u001b[0m \u001b[0mops\u001b[0m\u001b[0;34m.\u001b[0m\u001b[0mget_default_graph\u001b[0m\u001b[0;34m(\u001b[0m\u001b[0;34m)\u001b[0m\u001b[0;34m\u001b[0m\u001b[0;34m\u001b[0m\u001b[0m\n",
      "\u001b[0;32m~/opt/miniconda3/envs/omni/lib/python3.8/site-packages/tensorflow/python/framework/constant_op.py\u001b[0m in \u001b[0;36m_constant_eager_impl\u001b[0;34m(ctx, value, dtype, shape, verify_shape)\u001b[0m\n\u001b[1;32m    299\u001b[0m \u001b[0;32mdef\u001b[0m \u001b[0m_constant_eager_impl\u001b[0m\u001b[0;34m(\u001b[0m\u001b[0mctx\u001b[0m\u001b[0;34m,\u001b[0m \u001b[0mvalue\u001b[0m\u001b[0;34m,\u001b[0m \u001b[0mdtype\u001b[0m\u001b[0;34m,\u001b[0m \u001b[0mshape\u001b[0m\u001b[0;34m,\u001b[0m \u001b[0mverify_shape\u001b[0m\u001b[0;34m)\u001b[0m\u001b[0;34m:\u001b[0m\u001b[0;34m\u001b[0m\u001b[0;34m\u001b[0m\u001b[0m\n\u001b[1;32m    300\u001b[0m   \u001b[0;34m\"\"\"Implementation of eager constant.\"\"\"\u001b[0m\u001b[0;34m\u001b[0m\u001b[0;34m\u001b[0m\u001b[0m\n\u001b[0;32m--> 301\u001b[0;31m   \u001b[0mt\u001b[0m \u001b[0;34m=\u001b[0m \u001b[0mconvert_to_eager_tensor\u001b[0m\u001b[0;34m(\u001b[0m\u001b[0mvalue\u001b[0m\u001b[0;34m,\u001b[0m \u001b[0mctx\u001b[0m\u001b[0;34m,\u001b[0m \u001b[0mdtype\u001b[0m\u001b[0;34m)\u001b[0m\u001b[0;34m\u001b[0m\u001b[0;34m\u001b[0m\u001b[0m\n\u001b[0m\u001b[1;32m    302\u001b[0m   \u001b[0;32mif\u001b[0m \u001b[0mshape\u001b[0m \u001b[0;32mis\u001b[0m \u001b[0;32mNone\u001b[0m\u001b[0;34m:\u001b[0m\u001b[0;34m\u001b[0m\u001b[0;34m\u001b[0m\u001b[0m\n\u001b[1;32m    303\u001b[0m     \u001b[0;32mreturn\u001b[0m \u001b[0mt\u001b[0m\u001b[0;34m\u001b[0m\u001b[0;34m\u001b[0m\u001b[0m\n",
      "\u001b[0;32m~/opt/miniconda3/envs/omni/lib/python3.8/site-packages/tensorflow/python/framework/constant_op.py\u001b[0m in \u001b[0;36mconvert_to_eager_tensor\u001b[0;34m(value, ctx, dtype)\u001b[0m\n\u001b[1;32m     96\u001b[0m       \u001b[0mdtype\u001b[0m \u001b[0;34m=\u001b[0m \u001b[0mdtypes\u001b[0m\u001b[0;34m.\u001b[0m\u001b[0mas_dtype\u001b[0m\u001b[0;34m(\u001b[0m\u001b[0mdtype\u001b[0m\u001b[0;34m)\u001b[0m\u001b[0;34m.\u001b[0m\u001b[0mas_datatype_enum\u001b[0m\u001b[0;34m\u001b[0m\u001b[0;34m\u001b[0m\u001b[0m\n\u001b[1;32m     97\u001b[0m   \u001b[0mctx\u001b[0m\u001b[0;34m.\u001b[0m\u001b[0mensure_initialized\u001b[0m\u001b[0;34m(\u001b[0m\u001b[0;34m)\u001b[0m\u001b[0;34m\u001b[0m\u001b[0;34m\u001b[0m\u001b[0m\n\u001b[0;32m---> 98\u001b[0;31m   \u001b[0;32mreturn\u001b[0m \u001b[0mops\u001b[0m\u001b[0;34m.\u001b[0m\u001b[0mEagerTensor\u001b[0m\u001b[0;34m(\u001b[0m\u001b[0mvalue\u001b[0m\u001b[0;34m,\u001b[0m \u001b[0mctx\u001b[0m\u001b[0;34m.\u001b[0m\u001b[0mdevice_name\u001b[0m\u001b[0;34m,\u001b[0m \u001b[0mdtype\u001b[0m\u001b[0;34m)\u001b[0m\u001b[0;34m\u001b[0m\u001b[0;34m\u001b[0m\u001b[0m\n\u001b[0m\u001b[1;32m     99\u001b[0m \u001b[0;34m\u001b[0m\u001b[0m\n\u001b[1;32m    100\u001b[0m \u001b[0;34m\u001b[0m\u001b[0m\n",
      "\u001b[0;32m~/opt/miniconda3/envs/omni/lib/python3.8/site-packages/keras/engine/keras_tensor.py\u001b[0m in \u001b[0;36m__array__\u001b[0;34m(self)\u001b[0m\n\u001b[1;32m    242\u001b[0m \u001b[0;34m\u001b[0m\u001b[0m\n\u001b[1;32m    243\u001b[0m   \u001b[0;32mdef\u001b[0m \u001b[0m__array__\u001b[0m\u001b[0;34m(\u001b[0m\u001b[0mself\u001b[0m\u001b[0;34m)\u001b[0m\u001b[0;34m:\u001b[0m\u001b[0;34m\u001b[0m\u001b[0;34m\u001b[0m\u001b[0m\n\u001b[0;32m--> 244\u001b[0;31m     raise TypeError(\n\u001b[0m\u001b[1;32m    245\u001b[0m         \u001b[0;34m'Cannot convert a symbolic Keras input/output to a numpy array. '\u001b[0m\u001b[0;34m\u001b[0m\u001b[0;34m\u001b[0m\u001b[0m\n\u001b[1;32m    246\u001b[0m         \u001b[0;34m'This error may indicate that you\\'re trying to pass a symbolic value '\u001b[0m\u001b[0;34m\u001b[0m\u001b[0;34m\u001b[0m\u001b[0m\n",
      "\u001b[0;31mTypeError\u001b[0m: Cannot convert a symbolic Keras input/output to a numpy array. This error may indicate that you're trying to pass a symbolic value to a NumPy call, which is not supported. Or, you may be trying to pass Keras symbolic inputs/outputs to a TF API that does not register dispatching, preventing Keras from automatically converting the API call to a lambda layer in the Functional Model."
     ]
    }
   ],
   "source": [
    "import keras_tuner\n",
    "\n",
    "tuner = keras_tuner.tuners.Hyperband(\n",
    "  build_model,\n",
    "  objective='val_loss',\n",
    "  max_epochs=100,\n",
    "  executions_per_trial=2,\n",
    "  directory='my_dir')"
   ]
  },
  {
   "cell_type": "code",
   "execution_count": null,
   "metadata": {},
   "outputs": [],
   "source": []
  }
 ],
 "metadata": {
  "kernelspec": {
   "display_name": "Python 3",
   "language": "python",
   "name": "python3"
  },
  "language_info": {
   "codemirror_mode": {
    "name": "ipython",
    "version": 3
   },
   "file_extension": ".py",
   "mimetype": "text/x-python",
   "name": "python",
   "nbconvert_exporter": "python",
   "pygments_lexer": "ipython3",
   "version": "3.8.5"
  }
 },
 "nbformat": 4,
 "nbformat_minor": 4
}
